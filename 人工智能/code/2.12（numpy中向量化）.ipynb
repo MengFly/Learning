{
 "cells": [
  {
   "cell_type": "code",
   "execution_count": 13,
   "metadata": {},
   "outputs": [
    {
     "name": "stdout",
     "output_type": "stream",
     "text": [
      "[ 0.35545053  0.2490816   0.97547411  0.86331543  0.31292715]\n"
     ]
    }
   ],
   "source": [
    "import numpy as np\n",
    "\n",
    "a = np.random.rand(5)\n",
    "print(a)"
   ]
  },
  {
   "cell_type": "code",
   "execution_count": 18,
   "metadata": {},
   "outputs": [
    {
     "name": "stdout",
     "output_type": "stream",
     "text": [
      "[ 1.42682334  1.28284671  2.65242445  2.37100859  1.36742191]\n",
      "[ 1.42682334  1.28284671  2.65242445  2.37100859  1.36742191]\n"
     ]
    }
   ],
   "source": [
    "import math\n",
    "\n",
    "# 非向量化的做法\n",
    "u = np.zeros(5)\n",
    "for i in range(5):\n",
    "    u[i] = math.exp(a[i])\n",
    "print(u)\n",
    "\n",
    "u = np.zeros(5)\n",
    "# 向量化的做法\n",
    "u = np.exp(a)\n",
    "print(u)"
   ]
  },
  {
   "cell_type": "code",
   "execution_count": 21,
   "metadata": {},
   "outputs": [
    {
     "name": "stdout",
     "output_type": "stream",
     "text": [
      "[-1.03436919 -1.38997471 -0.02483166 -0.14697515 -1.16178486]\n",
      "[ 0.35545053  0.2490816   0.97547411  0.86331543  0.31292715]\n",
      "[ 0.12634508  0.06204165  0.95154974  0.74531353  0.0979234 ]\n",
      "[ 2.81333099  4.01474852  1.02514253  1.15832518  3.19563194]\n",
      "[ 0.35545053  0.2490816   0.97547411  0.86331543  0.31292715]\n"
     ]
    }
   ],
   "source": [
    "# 更多的例子\n",
    "print(np.log(a))\n",
    "\n",
    "print(np.abs(a))\n",
    "\n",
    "print(a**2)\n",
    "\n",
    "print(1/a)\n",
    "\n",
    "print(np.maximum(a,0))"
   ]
  }
 ],
 "metadata": {
  "kernelspec": {
   "display_name": "Python 3",
   "language": "python",
   "name": "python3"
  },
  "language_info": {
   "codemirror_mode": {
    "name": "ipython",
    "version": 3
   },
   "file_extension": ".py",
   "mimetype": "text/x-python",
   "name": "python",
   "nbconvert_exporter": "python",
   "pygments_lexer": "ipython3",
   "version": "3.6.1"
  }
 },
 "nbformat": 4,
 "nbformat_minor": 2
}
