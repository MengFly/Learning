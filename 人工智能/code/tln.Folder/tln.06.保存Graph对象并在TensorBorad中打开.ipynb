{
 "cells": [
  {
   "cell_type": "markdown",
   "metadata": {},
   "source": [
    "#### 先不解释，直接上代码，再进行解释 "
   ]
  },
  {
   "cell_type": "code",
   "execution_count": 7,
   "metadata": {
    "collapsed": true
   },
   "outputs": [],
   "source": [
    "import tensorflow as tf"
   ]
  },
  {
   "cell_type": "code",
   "execution_count": 8,
   "metadata": {},
   "outputs": [],
   "source": [
    "logfile = r\"D:\\python\\tensorflow\\name_scope2\"\n",
    "graph = tf.Graph()"
   ]
  },
  {
   "cell_type": "markdown",
   "metadata": {},
   "source": [
    "我们在这里创建一个Graph对象，之后创建的所有的Tensor或op对象都在这个Graph对象中操作"
   ]
  },
  {
   "cell_type": "code",
   "execution_count": 12,
   "metadata": {},
   "outputs": [],
   "source": [
    "with graph.as_default() :\n",
    "    in_x = tf.placeholder(dtype=tf.float16, shape=[], name=\"input_x\")\n",
    "    in_y = tf.placeholder(dtype=tf.float16, shape=[], name=\"input_y\")\n",
    "    const = tf.constant(5, dtype = tf.float16, name = \"static_value\")\n",
    "    # 上面我们创建了3个Tensor对象，作为之后操作的输入，其中两个是占位符，一个是常量值\n",
    "    \n",
    "    with tf.name_scope(name=\"Transformation\"):\n",
    "        \n",
    "        with tf.name_scope(name=\"A\"):\n",
    "            A_mul = tf.multiply(in_x, const)\n",
    "            A_out = tf.subtract(A_mul, in_x)\n",
    "            # A 中的操作为 A_out = (in_x * const) - in_x\n",
    "\n",
    "        with tf.name_scope(name=\"B\"):\n",
    "            B_mul = tf.multiply(in_y, const)\n",
    "            B_out = tf.subtract(B_mul, in_y)\n",
    "            # B 中的操作为 B_out = (in_y * const) - in_y\n",
    "\n",
    "        with tf.name_scope(name=\"C\"):\n",
    "            C_div = tf.div(A_out, B_out)\n",
    "            C_out = tf.add(C_div, const)\n",
    "            # C 中的操作为 C_out = (A_out / B_out) + const\n",
    "\n",
    "        with tf.name_scope(name=\"D\"):\n",
    "            D_div = tf.div(B_out, A_out)\n",
    "            D_out = tf.add(D_div, const)\n",
    "            # D 中的操作为 D_out = (B_out / A_out) + const\n",
    "\n",
    "        out = tf.maximum(C_out, D_out)\n",
    "        # 在上面的代码中，我们创建了一个数据流图，最外面有一个nameScope，里面包含了四个nameScope以及一个输出"
   ]
  },
  {
   "cell_type": "markdown",
   "metadata": {},
   "source": [
    "在上面的代码中我们为我们的数据流图完成了定义，通过上面的代码观察，我们对上面的数据流图有如下结论：\n",
    "1. 在上面的数据流图里面我们使用了我们在笔记最开始的时候定义的Graph对象作为数据流图\n",
    "2. 我们创建了3个Tensor对象，作为之后操作的输入，其中两个是占位符，一个是常量值\n",
    "3. 在这个数据流图的最外面有一个名称作用域Transformation， 他下面包含了四个名称作用域和一个out的Tensor对象\n",
    "4. 每一个名称作用域下面都有我们定义的一些语句\n",
    "\n",
    "下面我们来看一看怎么把这些数据进行输出"
   ]
  },
  {
   "cell_type": "code",
   "execution_count": 14,
   "metadata": {
    "collapsed": true
   },
   "outputs": [],
   "source": [
    "# 创建写入数据的对象，设定log的文件夹，以及要导出的文件的graph数据流图对象\n",
    "writer = tf.summary.FileWriter(logdir=logfile, graph=graph)\n",
    "# 写入完成之后要关闭writer对象\n",
    "writer.close()"
   ]
  },
  {
   "cell_type": "markdown",
   "metadata": {},
   "source": [
    "上面的两行代码我们使用的writer对象把我们的graph对象导出到本地了，\n",
    "我们打开我们的logfile对应的系统位置，发现已经为我们创建了这个文件，并且在它下面多出了一个文件，如下所示：![log1](img/log1.png)\n",
    "\n",
    "如果想要查看这个流图，需要用到tensorboard我们需要在命令行里面输入下面的命令\n",
    "```shell\n",
    "tensorboard --logdir D:\\python\\tensorflow\\name_scope2\n",
    "```\n",
    "上面的logdir参数是我们导出的数据流图的位置，也就是我们在上面定义的logfile的位置\n",
    "结果如下面所示：\n",
    "![shell1](img/shell1.png)\n",
    "里面提示我们前往http://mengfei:6006 这个地址进行查看，当然不同计算机地址是不一样的。\n",
    "进入浏览器输入这个地址，选择Graphs这个Tab就可以看见我们的程序流图了。\n",
    "下面是我导出来的数据流程图：\n",
    "![run](img/graph_run.png)\n"
   ]
  }
 ],
 "metadata": {
  "kernelspec": {
   "display_name": "Python 3",
   "language": "python",
   "name": "python3"
  },
  "language_info": {
   "codemirror_mode": {
    "name": "ipython",
    "version": 3
   },
   "file_extension": ".py",
   "mimetype": "text/x-python",
   "name": "python",
   "nbconvert_exporter": "python",
   "pygments_lexer": "ipython3",
   "version": "3.6.1"
  }
 },
 "nbformat": 4,
 "nbformat_minor": 2
}
