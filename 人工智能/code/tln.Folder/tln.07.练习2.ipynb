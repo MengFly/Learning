{
 "cells": [
  {
   "cell_type": "code",
   "execution_count": 1,
   "metadata": {
    "collapsed": true
   },
   "outputs": [],
   "source": [
    "import tensorflow as tf\n",
    "\n",
    "graph = tf.Graph()\n",
    "logfile = \"D:/python/tenforflow/log2\""
   ]
  },
  {
   "cell_type": "code",
   "execution_count": 2,
   "metadata": {
    "collapsed": true
   },
   "outputs": [],
   "source": [
    "with graph.as_default():\n",
    "    \n",
    "    with tf.name_scope(\"variables\"):\n",
    "        # 追踪数据流图运行的Variable对象\n",
    "        global_step = tf.Variable(0, dtype=tf.int32, trainable=False, name=\"global_step\")\n",
    "        # 追踪所有输出随时间累加和的Variable对象\n",
    "        total_output = tf.Variable(0.0, dtype=tf.float32, trainable=False, name=\"total_output\")\n",
    "    \n",
    "    # 主要的变换Op\n",
    "    with tf.name_scope(\"transformation\"):\n",
    "        # 独立的输入层\n",
    "        with tf.name_scope(\"input\"):\n",
    "            # 创建一个可接受向量的占位符\n",
    "            a = tf.placeholder(dtype=tf.float32, shape=[None], name='input_placeholder_a')\n",
    "        \n",
    "        # 独立的中间层\n",
    "        with tf.name_scope(\"intermediate_layer\"):\n",
    "            b = tf.reduce_prod(a, name=\"product_b\")\n",
    "            c = tf.reduce_sum(a, name=\"sum_c\")\n",
    "            \n",
    "        # 独立的输出层\n",
    "        with tf.name_scope(\"output\"):\n",
    "            output = tf.add(b, c, name='output')\n",
    "    \n",
    "    # 更新数据层\n",
    "    with tf.name_scope(\"update\"):\n",
    "        # 用最新的输出更新Variable对象total_output\n",
    "        update_total = total_output.assign_add(output)\n",
    "        # 将前面的Variable对象global_step加一，只要数据流图运行，该操作便需要进行\n",
    "        increment_step = global_step.assign_add(1)\n",
    "        \n",
    "        # 汇总Op\n",
    "        with tf.name_scope(\"summaries\"):\n",
    "            avg = tf.div(update_total, tf.cast(increment_step, tf.float32), name=\"average\")\n",
    "            #为输出节点创建汇总数据\n",
    "            tf.summary.scalar(\"output_summary\",output)\n",
    "            tf.summary.scalar('total_summary',update_total)\n",
    "            tf.summary.scalar(\"average_summary\",avg)\n",
    "        \n",
    "        # 全局Variable对象和Op\n",
    "        with tf.name_scope('global_ops'):\n",
    "            # 初始化Op\n",
    "            init = tf.global_variables_initializer()\n",
    "            # 将所有汇总数据合并到一个Op中\n",
    "            merged_summaries = tf.summary.merge_all()\n",
    "            \n",
    "    sess = tf.Session(graph=graph)\n",
    "    \n",
    "    writer = tf.summary.FileWriter(logfile, graph)\n",
    "    # 初始化Variable对象\n",
    "    sess.run(init)\n",
    "\n",
    "def run_graph(input_tensor):\n",
    "    \"\"\"\n",
    "    辅助函数，用给定的输入张量运行数据流图，并保存汇总数据\n",
    "    \"\"\"\n",
    "    feed_dict = {a: input_tensor}\n",
    "    _,step, summary = sess.run([output, increment_step, merged_summaries], feed_dict = feed_dict)\n",
    "    writer.add_summary(summary, global_step = step)"
   ]
  },
  {
   "cell_type": "code",
   "execution_count": 3,
   "metadata": {
    "collapsed": true
   },
   "outputs": [],
   "source": [
    "run_graph([2,8])\n",
    "run_graph([3,1,3,3])\n",
    "run_graph([8])\n",
    "run_graph([1,2,3])\n",
    "run_graph([11,4])\n",
    "run_graph([4,1])\n",
    "run_graph([7,3,1])\n",
    "run_graph([0,2])"
   ]
  },
  {
   "cell_type": "code",
   "execution_count": 4,
   "metadata": {
    "collapsed": true
   },
   "outputs": [],
   "source": [
    "writer.flush()\n",
    "writer.close()\n",
    "sess.close()"
   ]
  }
 ],
 "metadata": {
  "kernelspec": {
   "display_name": "Python 3",
   "language": "python",
   "name": "python3"
  },
  "language_info": {
   "codemirror_mode": {
    "name": "ipython",
    "version": 3
   },
   "file_extension": ".py",
   "mimetype": "text/x-python",
   "name": "python",
   "nbconvert_exporter": "python",
   "pygments_lexer": "ipython3",
   "version": "3.6.1"
  }
 },
 "nbformat": 4,
 "nbformat_minor": 2
}
