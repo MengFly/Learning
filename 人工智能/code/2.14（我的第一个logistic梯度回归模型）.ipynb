{
 "cells": [
  {
   "cell_type": "code",
   "execution_count": 25,
   "metadata": {
    "collapsed": true
   },
   "outputs": [],
   "source": [
    "import numpy as np\n",
    "# sigmoid函数\n",
    "def sigmoid(Z):\n",
    "    return 1/(1 + np.exp(-Z))"
   ]
  },
  {
   "cell_type": "code",
   "execution_count": 26,
   "metadata": {},
   "outputs": [],
   "source": [
    "def train_model(X, Y, a=0.1):\n",
    "    '''\n",
    "    这个函数用来训练模型,输入X的时候请注意，X的行应该是单个数据的维数，X的列应该是样本的个数\n",
    "    参数X是训练的训练输入\n",
    "    参数Y是训练的训练期望输出\n",
    "    参数a是训练过程中的学习率\n",
    "    '''\n",
    "    # 先获取X矩阵的维数\n",
    "    m = np.shape(X)[1]\n",
    "    nx = np.shape(X)[0]\n",
    "    print(\"the m is:\" + str(m) + \" the nx is:\" + str(nx))\n",
    "    \n",
    "    # 初始化模型的参数\n",
    "    W = np.zeros((nx, 1))\n",
    "    b = 0\n",
    "    \n",
    "    # 对输入的训练集训练模型1000次\n",
    "    for i in range(1000):\n",
    "        \n",
    "        # 计算模型输出\n",
    "        Z = np.dot(W.T, X) + b\n",
    "        A = sigmoid(Z)\n",
    "        \n",
    "        # 计算模型梯度\n",
    "        dZ = A - Y\n",
    "        dW = (np.dot(X, dZ.T))/m\n",
    "        db = (np.sum(dZ))/m\n",
    "        \n",
    "        # 更新W和b的值\n",
    "        W = W - a*dW\n",
    "        b = b - a*db\n",
    "    return W, b"
   ]
  },
  {
   "cell_type": "code",
   "execution_count": 27,
   "metadata": {
    "collapsed": true
   },
   "outputs": [],
   "source": [
    "# 根据模型的输入值进行测试\n",
    "def get_out(W, b, X):\n",
    "    return sigmoid(np.dot(W.T, X) + b)"
   ]
  },
  {
   "cell_type": "code",
   "execution_count": 35,
   "metadata": {},
   "outputs": [],
   "source": [
    "# 测试的数据集\n",
    "test_input = np.array([[1, 2, 4], [4, 6, 8], [4, 5, 6], [3, 5, 9], [2, 4, 0], [9, 2, 7]])\n",
    "test_output = np.array([1,0,0, 1, 1, 0,])"
   ]
  },
  {
   "cell_type": "code",
   "execution_count": 43,
   "metadata": {},
   "outputs": [
    {
     "name": "stdout",
     "output_type": "stream",
     "text": [
      "the m is:6 the nx is:3\n",
      "train model the W value is : [[-4.62075648]\n",
      " [ 2.0372462 ]\n",
      " [ 0.20925175]]\n",
      "train model the b value is : 3.2523374925\n",
      "use train model test the values is : [[  9.71888993e-01   2.08630989e-01   2.21190875e-02   8.11466096e-01\n",
      "    8.96581869e-01   5.71766310e-15]]\n"
     ]
    }
   ],
   "source": [
    "W, b = train_model(test_input.T, test_output)\n",
    "print(\"train model the W value is : \" + str(W))\n",
    "print(\"train model the b value is : \" + str(b))\n",
    "test_input = np.array([[1, 2, 4], [4, 6, 8], [4, 5, 6], [3, 5, 9], [2, 4, 0], [9, 2, 7]])\n",
    "print(\"use train model test the values is : \" + str(get_out(W, b, test_input.T)))"
   ]
  },
  {
   "cell_type": "markdown",
   "metadata": {},
   "source": [
    "## 结论\n",
    "\n",
    "可以看到我们用于训练和测试的数据是一样的，都是\n",
    "    \n",
    "    np.array([[1, 2, 4], [4, 6, 8], [4, 5, 6], [3, 5, 9], [2, 4, 0], [9, 2, 7]])\n",
    "\n",
    "我们的期望输出是：\n",
    "\n",
    "    np.array([1,0,0, 1, 1, 0,])\n",
    "\n",
    "我们用我们训练好的模型去测试输入，得到的输出是：\n",
    "\n",
    "    [0.971888993  0.208630989  0.02.21190875  0.811466096  0.896581869  0.00000000000000571766310]\n",
    "如果按照四舍五入来进行计算的话就相当于：\n",
    "\n",
    "    [1        0         0          1        1          0]\n",
    "    \n",
    "**我们发现，我们的模型和我们的期望值拟合的很好**正确率达到了100%"
   ]
  }
 ],
 "metadata": {
  "kernelspec": {
   "display_name": "Python 3",
   "language": "python",
   "name": "python3"
  },
  "language_info": {
   "codemirror_mode": {
    "name": "ipython",
    "version": 3
   },
   "file_extension": ".py",
   "mimetype": "text/x-python",
   "name": "python",
   "nbconvert_exporter": "python",
   "pygments_lexer": "ipython3",
   "version": "3.6.1"
  }
 },
 "nbformat": 4,
 "nbformat_minor": 2
}
