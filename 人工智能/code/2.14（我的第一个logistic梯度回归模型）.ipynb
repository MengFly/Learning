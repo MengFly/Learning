{
 "cells": [
  {
   "cell_type": "code",
   "execution_count": 4,
   "metadata": {
    "collapsed": true
   },
   "outputs": [],
   "source": [
    "import numpy as np\n",
    "import matplotlib.pyplot as plt\n",
    "\n",
    "# sigmoid函数\n",
    "def sigmoid(Z):\n",
    "    return 1/(1 + np.exp(-Z))"
   ]
  },
  {
   "cell_type": "code",
   "execution_count": 5,
   "metadata": {
    "collapsed": true
   },
   "outputs": [],
   "source": [
    "def train_model(X, Y, a=0.1):\n",
    "    '''\n",
    "    这个函数用来训练模型,输入X的时候请注意，X的行应该是单个数据的维数，X的列应该是样本的个数\n",
    "    参数X是训练的训练输入\n",
    "    参数Y是训练的训练期望输出\n",
    "    参数a是训练过程中的学习率\n",
    "    '''\n",
    "    # 先获取X矩阵的维数\n",
    "    m = np.shape(X)[1]\n",
    "    nx = np.shape(X)[0]\n",
    "    print(\"the m is:\" + str(m) + \" the nx is:\" + str(nx))\n",
    "    \n",
    "    # 初始化模型的参数\n",
    "    W = np.zeros((nx, 1))\n",
    "    b = 0\n",
    "    \n",
    "    # 这参数是用来存储b变化过程中的数据,用来显示梯度下降中b的变化过程\n",
    "    bs = []\n",
    "    \n",
    "    # 对输入的训练集训练模型10000次\n",
    "    for i in range(10000):\n",
    "        \n",
    "        # 计算模型输出\n",
    "        Z = np.dot(W.T, X) + b\n",
    "        A = sigmoid(Z)\n",
    "        \n",
    "        # 计算模型梯度\n",
    "        dZ = A - Y\n",
    "        dW = (np.dot(X, dZ.T))/m\n",
    "        db = (np.sum(dZ))/m\n",
    "        \n",
    "        # 更新W和b的值\n",
    "        W = W - a*dW\n",
    "        b = b - a*db\n",
    "        bs.append(b)\n",
    "    plt.plot(bs)\n",
    "    plt.show()\n",
    "    return W, b"
   ]
  },
  {
   "cell_type": "code",
   "execution_count": 6,
   "metadata": {
    "collapsed": true
   },
   "outputs": [],
   "source": [
    "# 根据模型的输入值进行测试\n",
    "def get_out(W, b, X):\n",
    "    return sigmoid(np.dot(W.T, X) + b)"
   ]
  },
  {
   "cell_type": "code",
   "execution_count": 7,
   "metadata": {},
   "outputs": [],
   "source": [
    "# 测试的数据集\n",
    "test_input = np.array([[1, 2, 4], [4, 6, 8], [4, 5, 6], [3, 5, 9], [2, 4, 0], [9, 2, 7]])\n",
    "test_output = np.array([1,0,0, 1, 1, 0,])"
   ]
  },
  {
   "cell_type": "code",
   "execution_count": 8,
   "metadata": {},
   "outputs": [
    {
     "name": "stdout",
     "output_type": "stream",
     "text": [
      "the m is:6 the nx is:3\n"
     ]
    },
    {
     "data": {
      "image/png": "[encoded data removed]",
      "text/plain": [
       "<matplotlib.figure.Figure at 0x1634cf929e8>"
      ]
     },
     "metadata": {},
     "output_type": "display_data"
    },
    {
     "name": "stdout",
     "output_type": "stream",
     "text": [
      "train model the W value is : [[-10.43190714]\n",
      " [  4.39141445]\n",
      " [  0.58922655]]\n",
      "train model the b value is : 7.41004368793\n",
      "use train model test the values is : [[  9.99701926e-01   3.71374146e-02   1.46967322e-04   9.66895893e-01\n",
      "    9.83887040e-01   1.11965114e-32]]\n"
     ]
    }
   ],
   "source": [
    "W, b = train_model(test_input.T, test_output)\n",
    "print(\"train model the W value is : \" + str(W))\n",
    "print(\"train model the b value is : \" + str(b))\n",
    "test_input = np.array([[1, 2, 4], [4, 6, 8], [4, 5, 6], [3, 5, 9], [2, 4, 0], [9, 2, 7]])\n",
    "print(\"use train model test the values is : \" + str(get_out(W, b, test_input.T)))"
   ]
  },
  {
   "cell_type": "markdown",
   "metadata": {},
   "source": [
    "## 结论\n",
    "\n",
    "可以看到我们用于训练和测试的数据是一样的，都是\n",
    "    \n",
    "    np.array([[1, 2, 4], [4, 6, 8], [4, 5, 6], [3, 5, 9], [2, 4, 0], [9, 2, 7]])\n",
    "\n",
    "我们的期望输出是：\n",
    "\n",
    "    np.array([1,0,0, 1, 1, 0,])\n",
    "\n",
    "我们用我们训练好的模型去测试输入，得到的输出是：\n",
    "\n",
    "    [ 0.999701926   0.0371374146  0.000146967322   0.966895893  0.983887040         0.000000000000000000000000000000111965114\n",
    "如果按照四舍五入来进行计算的话就相当于：\n",
    "\n",
    "    [1        0         0          1        1          0]\n",
    "    \n",
    "**我们发现，我们的模型和我们的期望值拟合的很好**正确率达到了100%\n",
    "\n",
    "## 下面我们来看一下相对误差"
   ]
  },
  {
   "cell_type": "code",
   "execution_count": 9,
   "metadata": {},
   "outputs": [
    {
     "name": "stdout",
     "output_type": "stream",
     "text": [
      "相对误差:0.0144665870313\n"
     ]
    }
   ],
   "source": [
    "relative_error = np.sum(np.abs(test_output - get_out(W, b, test_input.T)))/np.shape(test_output)[0]\n",
    "print(\"相对误差:\" + str(relative_error))"
   ]
  }
 ],
 "metadata": {
  "kernelspec": {
   "display_name": "Python 3",
   "language": "python",
   "name": "python3"
  },
  "language_info": {
   "codemirror_mode": {
    "name": "ipython",
    "version": 3
   },
   "file_extension": ".py",
   "mimetype": "text/x-python",
   "name": "python",
   "nbconvert_exporter": "python",
   "pygments_lexer": "ipython3",
   "version": "3.6.1"
  }
 },
 "nbformat": 4,
 "nbformat_minor": 2
}
