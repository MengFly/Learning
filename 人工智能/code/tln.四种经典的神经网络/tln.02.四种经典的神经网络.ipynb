{
 "cells": [
  {
   "cell_type": "markdown",
   "metadata": {},
   "source": [
    "四种经典的神经网络：\n",
    "\n",
    "ILSVRC比赛分类项目\n",
    "\n",
    "1. **AlexNet**<br> \n",
    "  2012年冠军（top5 error-rate:16.4%, 8 layers,额外数据15.3%）\n",
    "2. **VGGNet**<br>\n",
    "  2014年亚军，（top5 error-rate:7.3%, 19 layers）\n",
    "3. **Google Inception**<br>\n",
    "  2014年冠军， （top5 error-rate 6.7%, 22 layers）\n",
    "4. **ResNet**<br>\n",
    "  2015年冠军， （top5 error-tate 3.57%, 152 layers）"
   ]
  },
  {
   "cell_type": "markdown",
   "metadata": {},
   "source": [
    "这四个网络都在各自的年代率先使用了很多先进的卷积神经网络结构，也象征了卷积神经网络在2012-2015这四年的快速发展。\n",
    "\n",
    "传统的机器学习算法目前在ILSVRC上已经难以追上深度学习的步伐了，以至于逐渐被称为*浅层学习*。目前在ImageNet上人眼能达到的错误率在5.1%， 还是经过了大量训练的专家能达到的成绩。而我们上面的ResNet错误率已经达到了3.57%，已经超过了人眼。说明，卷积神经网络已经基本解决了ImageNet数据集上的图片分类问题。\n",
    "![2](img/2.png)"
   ]
  }
 ],
 "metadata": {
  "kernelspec": {
   "display_name": "Python 3",
   "language": "python",
   "name": "python3"
  },
  "language_info": {
   "codemirror_mode": {
    "name": "ipython",
    "version": 3
   },
   "file_extension": ".py",
   "mimetype": "text/x-python",
   "name": "python",
   "nbconvert_exporter": "python",
   "pygments_lexer": "ipython3",
   "version": "3.6.1"
  }
 },
 "nbformat": 4,
 "nbformat_minor": 2
}
