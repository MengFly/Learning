{
 "cells": [
  {
   "cell_type": "markdown",
   "metadata": {},
   "source": [
    "### VGGNet简介\n",
    "+ **作者**： Visual Geometry Group And Google DeepMind\n",
    "+ **特点**： 探索了卷积神经网络的深度与其性能之间的关系，扩展性强，迁移到其他图片数据上的泛化性非常好。\n",
    "+ **结构**： 反复堆叠3X3的小型卷积核和2X2的最大池化层，成功构筑了16~19层深的卷积神经网络。\n",
    "+ **成就**： ILSVRC 2014比赛分类项目第二名，定位项目第一名\n",
    "\n",
    "同时，VGGNet训练后的模型参数在其官方网站上开源了，可用来在domain specific的图像分类任务上进行再训练。\n",
    "\n",
    "VGGNet论文中全部使用了3X3卷积核和2X2池化核，通过不断加深网络结构来提升性能。\n",
    "\n",
    "下面是VGG六种不同类型的神经网络的模型。\n",
    "![VGGNet网络结构图](img/VGGNet.png)\n",
    "\n",
    "下面是六种类型神经网络模型的参数量\n",
    "![VGGNetVariable](img/VGGNetVariable.png)"
   ]
  },
  {
   "cell_type": "markdown",
   "metadata": {},
   "source": [
    "VGGNet有5段卷积，每段内的卷积核数量一样，越靠后的卷积核数量越多，64-128-512-512. 其中经常有完全一样的3X3的卷积层堆叠在一起的情况。\n",
    "\n",
    "这其实是一个非常有用的设计，两个3X3的卷积层相当于一个5X5的卷积层。\n",
    "![3_2conv](img/3_2Conv.png)\n",
    "因为，在第二个3X3卷积层处理完成之后，在原图像上面相当于处理了一个5X5的区域。同理，三个串联的3X3卷积层相当于一个7X7的卷积层。但是，3个3X3的卷积层拥有更少的参数量，只有7X7参数量的\\\\(\\frac{3\\times 3\\times 3}{7\\times 7}=55\\%\\\\),**不过！相比较来说7X7的卷积核的运算量没有三个3X3的运算量大**。更重要的是，3个3X3的卷积层拥有比1个7X7的卷积层更多的非线性变换（前者使用三次ReLU激活函数，而后者只使用一次），使得CNN对特征的学习能力更强。\n",
    "\n",
    "VGGNet在训练时有一个小技巧，先训练级别A的简单网络，再复用A网络的权重来初始化后面的几个复杂模型，这样训练收敛速度更快。\n",
    "\n",
    "预测时，VGG采用Multi-Scale的方法，将图像Scale到一个尺寸Q，并将图片输入卷积网络计算，然后在最后一个卷积层使用滑窗的方式进行分类 预测，将不同窗口的分类 结果平均，再将不同尺寸Q的结果平均得到最后结果，这样可以提高图片数据的利用率并提升准确率。\n",
    "\n",
    "VGGNet作者对比各级网络总结如下观点\n",
    "+ LRN层作用不大\n",
    "+ 越深的网络效果越好\n",
    "+ 1X1的卷积也是有效的，但是没有3X3的卷积好，大一些的卷积核可以学习更大的空间特征。\n",
    "![error_rate](img/error_rate.png)"
   ]
  },
  {
   "cell_type": "markdown",
   "metadata": {},
   "source": [
    "因为训练耗费时间太长，因此，同理，使用评测模型运行时间的方式来评测模型。\n",
    "\n",
    "**下面，实现VGGNet-16，即版本D**\n",
    "\n",
    "第一步，导包"
   ]
  },
  {
   "cell_type": "code",
   "execution_count": 13,
   "metadata": {},
   "outputs": [],
   "source": [
    "from datetime import datetime\n",
    "import math\n",
    "import time\n",
    "import tensorflow as tf\n",
    "import matplotlib.pyplot as plt"
   ]
  },
  {
   "cell_type": "code",
   "execution_count": 15,
   "metadata": {},
   "outputs": [],
   "source": [
    "def print_activations(t):\n",
    "    print(t.op.name, \" \", t.get_shape().as_list())"
   ]
  },
  {
   "cell_type": "markdown",
   "metadata": {},
   "source": [
    "定义创建卷积层的函数，这个函数包括如下几个参数：\n",
    "+ **input_op** 卷积层的输入节点\n",
    "+ **name** 卷积层的名称\n",
    "+ **kh & kw** 卷积核的大小， 宽和高(对VGGNet来说一般都是3）\n",
    "+ **n_out** 卷积层的输出通道数（对VGGNet来说一般都是逐级递增）\n",
    "+ **dh & dw** 卷积核卷积的步长\n",
    "+ **p** 参数的集合，用来保存模型参数\n",
    "\n",
    "这里的卷积层的操作包括\n",
    "1. 获取上一层的输出通道数\n",
    "2. 根据输入通道数和输出通道数以及步长进行卷积\n",
    "3. 添加偏置\n",
    "4. ReLU激活函数 "
   ]
  },
  {
   "cell_type": "code",
   "execution_count": 16,
   "metadata": {},
   "outputs": [],
   "source": [
    "def conv_op(input_op, name, kh, kw, n_out, dh, dw, p):\n",
    "    n_in = input_op.get_shape()[-1].value\n",
    "    \n",
    "    with tf.name_scope(name) as scope:\n",
    "        kernel = tf.get_variable(scope + \"w\", \n",
    "                                 shape=[kh, kw, n_in, n_out], \n",
    "                                 dtype=tf.float32, \n",
    "                                 initializer=tf.contrib.layers.xavier_initializer_conv2d())\n",
    "        conv = tf.nn.conv2d(input_op, kernel, \n",
    "                            strides=[1,dh, dw, 1], \n",
    "                            padding='SAME')\n",
    "        bias_init_val = tf.constant(0.0, shape=[n_out], dtype=tf.float32)\n",
    "        biases = tf.Variable(bias_init_val, trainable=True, name='b')\n",
    "        z = tf.nn.bias_add(conv, biases)\n",
    "        activation = tf.nn.relu(z, name = scope)\n",
    "        p += [kernel, biases]\n",
    "        print_activations(activation)\n",
    "        return activation"
   ]
  },
  {
   "cell_type": "markdown",
   "metadata": {},
   "source": [
    "初始化全连接层。\n",
    "这里的参数包括\n",
    "+ **input_op** 全连接层的输入节点\n",
    "+ **name** 全连接层的名称\n",
    "+ **n_out** 全连接层的输出节点个数\n",
    "+ **p** 参数的集合，用来保存模型参数\n",
    "\n",
    "这一层的操作包括：\n",
    "1. 获取上一层的输出维度\n",
    "2. 创建全连接层的权重和偏置参数\n",
    "3. 使用ReLU激活函数\n",
    "4. 添加参数到参数列表\n",
    "\n",
    "*(对于这里添加激活函数直接写成ReLU激活函数我不是特别理解，感觉如果把激活函数也作为是一个参数就好了，因为如果最后一层是Softmax激活函数，或者是做概率分析的Sigmoid激活函数的话，这里的ReLU激活函数感觉会变得多余。尽管在这个例子中，作者在最后一层的处理方式是在ReLU激活函数后面添加了一个Softmax操作，但是，感觉这样不是很好)*"
   ]
  },
  {
   "cell_type": "code",
   "execution_count": 17,
   "metadata": {},
   "outputs": [],
   "source": [
    "def fc_op(input_op, name, n_out, p):\n",
    "    n_in = input_op.get_shape()[-1].value\n",
    "    \n",
    "    with tf.name_scope(name) as scope:\n",
    "        kernel = tf.get_variable(scope + \"w\", \n",
    "                                 shape = [n_in, n_out], \n",
    "                                 dtype=tf.float32, \n",
    "                                 initializer=tf.contrib.layers.xavier_initializer())\n",
    "        biases = tf.Variable(\n",
    "            tf.constant(0.1, shape=[n_out], dtype=tf.float32), \n",
    "            name='b')\n",
    "        activation = tf.nn.relu_layer(input_op, kernel, biases, name = scope)\n",
    "        p += [kernel, biases]\n",
    "        print_activations(activation)\n",
    "        return activation"
   ]
  },
  {
   "cell_type": "markdown",
   "metadata": {},
   "source": [
    "创建池化层的函数，这里的参数包括\n",
    "+ **input_op** 池化层输入节点\n",
    "+ **name** 池化层名称\n",
    "+ **kh & kw** 池化核大小\n",
    "+ **dh & dw** 池化步长\n",
    "\n",
    "操作包括\n",
    "+ 最大池化操作"
   ]
  },
  {
   "cell_type": "code",
   "execution_count": 18,
   "metadata": {},
   "outputs": [],
   "source": [
    "def mpool_op(input_op, name, kh, kw, dh, dw):\n",
    "    activation =  tf.nn.max_pool(input_op,\n",
    "                          ksize = [1, kh, kw, 1],\n",
    "                          strides=[1, dh, dw, 1],\n",
    "                          padding = 'SAME',\n",
    "                          name = name)\n",
    "    print_activations(activation)\n",
    "    return activation"
   ]
  },
  {
   "cell_type": "markdown",
   "metadata": {},
   "source": [
    "定义VGGNet-16网络结构，VGGNet16的网络结构可以在上面的列表中找到，因此，下面的创建过程就不在赘述了。"
   ]
  },
  {
   "cell_type": "code",
   "execution_count": 19,
   "metadata": {},
   "outputs": [],
   "source": [
    "def inference_op(input_op, keep_prob):\n",
    "    p = []\n",
    "    \n",
    "    conv1_1 = conv_op(input_op, name=\"conv1_1\", kh=3, kw=3, n_out=64, dh=1, dw=1, p=p)\n",
    "    conv1_2 = conv_op(conv1_1, name=\"conv1_2\", kh=3, kw=3, n_out=64, dh=1, dw=1, p=p)\n",
    "    pool1 = mpool_op(conv1_2, name=\"pool1\", kh=2, kw=2, dh=2, dw=2)\n",
    "    \n",
    "    conv2_1 = conv_op(pool1, name=\"conv2_1\", kh=3, kw=3, n_out=128, dh=1, dw=1, p=p)\n",
    "    conv2_2 = conv_op(conv2_1, name=\"conv2_2\", kh=3, kw=3, n_out=128, dh=1, dw=1, p=p)\n",
    "    pool2 = mpool_op(conv2_2, name=\"pool2\", kh=2, kw=2, dh=2, dw=2)\n",
    "    \n",
    "    conv3_1 = conv_op(pool2, name=\"conv3_1\", kh=3, kw=3, n_out=256, dh=1, dw=1, p=p)\n",
    "    conv3_2 = conv_op(conv3_1, name=\"conv3_2\", kh=3, kw=3, n_out=256, dh=1, dw=1, p=p)\n",
    "    conv3_3 = conv_op(conv3_2, name=\"conv3_3\", kh=3, kw=3, n_out=256, dh=1, dw=1, p=p)\n",
    "    pool3 = mpool_op(conv3_3, name=\"pool3\", kh=2, kw=2, dh=2, dw=2)\n",
    "    \n",
    "    conv4_1 = conv_op(pool3, name=\"conv4_1\", kh=3, kw=3, n_out=512, dh=1, dw=1, p=p)\n",
    "    conv4_2 = conv_op(conv4_1, name=\"conv4_2\", kh=3, kw=3, n_out=512, dh=1, dw=1, p=p)\n",
    "    conv4_3 = conv_op(conv4_2, name=\"conv4_3\", kh=3, kw=3, n_out=512, dh=1, dw=1, p=p)\n",
    "    pool4 = mpool_op(conv4_3, name=\"pool4\", kh=2, kw=2, dh=2, dw=2)\n",
    "    \n",
    "    conv5_1 = conv_op(pool4, name=\"conv5_1\", kh=3, kw=3, n_out=512, dh=1, dw=1, p=p)\n",
    "    conv5_2 = conv_op(conv5_1, name=\"conv5_2\", kh=3, kw=3, n_out=512, dh=1, dw=1, p=p)\n",
    "    conv5_3 = conv_op(conv5_2, name=\"conv5_3\", kh=3, kw=3, n_out=512, dh=1, dw=1, p=p)\n",
    "    pool5 = mpool_op(conv5_3, name=\"pool5\", kh=2, kw=2, dh=2, dw=2)\n",
    "    \n",
    "    shp = pool5.get_shape()\n",
    "    flattened_shape = shp[1].value * shp[2].value * shp[3].value\n",
    "    resh1 = tf.reshape(pool5, [-1, flattened_shape], name=\"resh1\")\n",
    "    \n",
    "    fc6 = fc_op(resh1, name=\"fc6\", n_out=4096, p=p)\n",
    "    fc6_drop = tf.nn.dropout(fc6, keep_prob=keep_prob, name=\"fc6_drop\")\n",
    "    \n",
    "    fc7 = fc_op(fc6_drop, name=\"fc7\", n_out=4096, p=p)\n",
    "    fc7_drop = tf.nn.dropout(fc7, keep_prob=keep_prob, name=\"fc7_drop\")\n",
    "    \n",
    "    fc8 = fc_op(fc7_drop, name=\"fc8\", n_out=1000, p=p)\n",
    "    softmax = tf.nn.softmax(fc8)\n",
    "    \n",
    "    predictions = tf.argmax(softmax, 1)\n",
    "    return predictions, softmax, fc8, p    "
   ]
  },
  {
   "cell_type": "code",
   "execution_count": 21,
   "metadata": {},
   "outputs": [
    {
     "name": "stdout",
     "output_type": "stream",
     "text": [
      "conv1_1_2   [32, 224, 224, 64]\n",
      "conv1_2_2   [32, 224, 224, 64]\n",
      "pool1_2   [32, 112, 112, 64]\n",
      "conv2_1_2   [32, 112, 112, 128]\n",
      "conv2_2_2   [32, 112, 112, 128]\n",
      "pool2_2   [32, 56, 56, 128]\n",
      "conv3_1_2   [32, 56, 56, 256]\n",
      "conv3_2_2   [32, 56, 56, 256]\n",
      "conv3_3_2   [32, 56, 56, 256]\n",
      "pool3_2   [32, 28, 28, 256]\n",
      "conv4_1_2   [32, 28, 28, 512]\n",
      "conv4_2_2   [32, 28, 28, 512]\n",
      "conv4_3_2   [32, 28, 28, 512]\n",
      "pool4_2   [32, 14, 14, 512]\n",
      "conv5_1_2   [32, 14, 14, 512]\n",
      "conv5_2_2   [32, 14, 14, 512]\n",
      "conv5_3_2   [32, 14, 14, 512]\n",
      "pool5_2   [32, 7, 7, 512]\n",
      "fc6_2   [32, 4096]\n",
      "fc7_2   [32, 4096]\n",
      "fc8_2   [32, 1000]\n"
     ]
    }
   ],
   "source": [
    "# 打印网络结构\n",
    "_,_1,_2,_3 = inference_op(tf.random_normal(shape=[32, 224, 224, 3],dtype=tf.float32), 1.0)"
   ]
  },
  {
   "cell_type": "markdown",
   "metadata": {},
   "source": [
    "下面的代码和之前的AlexNet网络评测的代码几乎没有什么区别，因此也不再赘述。"
   ]
  },
  {
   "cell_type": "code",
   "execution_count": 6,
   "metadata": {},
   "outputs": [],
   "source": [
    "def time_tensorflow_run(session, target, feed, info_string):\n",
    "    durations = []\n",
    "    steps = []\n",
    "    num_steps_burn_in = 10\n",
    "    total_duration = 0.\n",
    "    total_duration_squared = 0.\n",
    "    for i in range(num_batches + num_steps_burn_in):\n",
    "        start_time = time.time()\n",
    "        _ = session.run(target, feed_dict=feed)\n",
    "        duration = time.time() - start_time\n",
    "        if i >= num_steps_burn_in:\n",
    "            #print('%s: step %d, duration = %.3f' % (datetime.now(), i-num_steps_burn_in, duration))\n",
    "            durations.append(duration)\n",
    "            steps.append(i - num_steps_burn_in)\n",
    "            total_duration += duration\n",
    "            total_duration_squared += duration * duration\n",
    "    mn = total_duration / num_batches\n",
    "    vr = total_duration_squared / num_batches - mn * mn\n",
    "    sd = math.sqrt(vr)\n",
    "    plt.plot(steps, durations)\n",
    "    plt.xlabel(\"setp\")\n",
    "    plt.ylabel(\"duration/sec\")\n",
    "    plt.title(info_string)\n",
    "    plt.show()\n",
    "    print(\"%s:%s across %d steps, %.3f +/- %.3f sec / batch\" %(datetime.now(), info_string, num_batches, mn, sd))"
   ]
  },
  {
   "cell_type": "code",
   "execution_count": 7,
   "metadata": {},
   "outputs": [],
   "source": [
    "def run_benchmark():\n",
    "    with tf.Graph().as_default():\n",
    "        image_size = 224\n",
    "        images = tf.Variable(\n",
    "            tf.random_normal([batch_size,image_size,image_size,3],\n",
    "                             dtype=tf.float32, \n",
    "                             stddev=0.1))\n",
    "        keep_prob = tf.placeholder(tf.float32)\n",
    "        predictions, softmax, fc8, p = inference_op(images, keep_prob)\n",
    "        \n",
    "        init = tf.global_variables_initializer()\n",
    "        with tf.Session() as sess:\n",
    "            sess.run(init)\n",
    "            time_tensorflow_run(sess, predictions, {keep_prob:1.0}, \"Forward\")\n",
    "            objective = tf.nn.l2_loss(fc8)\n",
    "            grad = tf.gradients(objective, p)\n",
    "            time_tensorflow_run(sess, grad, {keep_prob:0.4}, \"BackWard\")"
   ]
  },
  {
   "cell_type": "code",
   "execution_count": 8,
   "metadata": {},
   "outputs": [
    {
     "name": "stderr",
     "output_type": "stream",
     "text": [
      "D:\\Anaconda3\\lib\\site-packages\\h5py\\__init__.py:34: FutureWarning: Conversion of the second argument of issubdtype from `float` to `np.floating` is deprecated. In future, it will be treated as `np.float64 == np.dtype(float).type`.\n",
      "  from ._conv import register_converters as _register_converters\n"
     ]
    },
    {
     "data": {
      "image/png": "[encoded data removed]",
      "text/plain": [
       "<matplotlib.figure.Figure at 0x2264104e828>"
      ]
     },
     "metadata": {},
     "output_type": "display_data"
    },
    {
     "name": "stdout",
     "output_type": "stream",
     "text": [
      "2018-02-13 12:59:32.709999:Forward across 100 steps, 39.538 +/- 2.882 sec / batch\n"
     ]
    },
    {
     "data": {
      "image/png": "[encoded data removed]",
      "text/plain": [
       "<matplotlib.figure.Figure at 0x22641100f28>"
      ]
     },
     "metadata": {},
     "output_type": "display_data"
    },
    {
     "name": "stdout",
     "output_type": "stream",
     "text": [
      "2018-02-13 16:17:52.842748:BackWard across 100 steps, 107.811 +/- 2.222 sec / batch\n"
     ]
    }
   ],
   "source": [
    "batch_size = 32\n",
    "num_batches = 100\n",
    "run_benchmark()"
   ]
  },
  {
   "cell_type": "markdown",
   "metadata": {},
   "source": [
    "根据上面的显示，每一个batch在计算前向传播的时候花费将近40s。在计算反向传播的时候花费108s，但是观察上面图像发现在60-90的一段时间耗时明显增加，我估计是因为当时正在解压umdface数据集，因此电脑处理速度跟不上，因此，如果电脑空闲的话我想实际上花费的时间应该会低于上面的时间吧。"
   ]
  }
 ],
 "metadata": {
  "kernelspec": {
   "display_name": "Python 3",
   "language": "python",
   "name": "python3"
  },
  "language_info": {
   "codemirror_mode": {
    "name": "ipython",
    "version": 3
   },
   "file_extension": ".py",
   "mimetype": "text/x-python",
   "name": "python",
   "nbconvert_exporter": "python",
   "pygments_lexer": "ipython3",
   "version": "3.6.1"
  }
 },
 "nbformat": 4,
 "nbformat_minor": 2
}
