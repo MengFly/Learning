{
 "cells": [
  {
   "cell_type": "markdown",
   "metadata": {},
   "source": [
    "## ResNet\n",
    "+ **作者**： 微软研究院Kaiming He等四名华人\n",
    "+ **特点**：可以极快的加速超神经网络的训练，准确率也有非常大的提升。ResNet和HightwayNetwork非常类似。\n",
    "+ **成就**： ILSVRC 2015冠军（error-rate 3.75%）\n",
    "\n",
    "### ResNet灵感来源，\n",
    "加深网络深度，准确率会先上升至饱和，在加深深度准确率会下降，这并不是过拟合问题（训练集，测试集误差都会增大），加入在后面添加几个全等映射层，按照理论来讲起码误差不会增大，也就是说更深的网络不应该带来训练集上误差上升。这里使用全等映射将前一层输出传到后面的思想，就是ResNet灵感来源。\n",
    "\n",
    "### ResNet残差模块\n",
    "![resnetmodule](img/resnetmodule.png)\n",
    "如果某神经网络期望输出为\\\\(H(x)\\\\),把输入x传到输出作为结果，那么最终我们的期望计算方式为\\\\(H(x) = F(x) + x\\\\),也就是说，模型最终的学习目标位\\\\(F(x) = H(x) - x\\\\),ResNet相当于将学习目标改变了，不再学习完整的输出\\\\(H(x)\\\\),而是学习输出和输入的差别\\\\(H(x)-x\\\\),也就是残差\n",
    "![res2module](img/res2module.png)\n",
    "\n",
    "### ResNet不同层数的网络配置\n",
    "![resconfig](img/resconfig.png)\n",
    "以上面50层的为例，层数计算方法为：\n",
    "1（7x7卷积层） + （3 + 4 + 6 + 3）* 3（ResNet残差module层） + 1(全连接分类层） = 50\n",
    "\n",
    "### ResNetV2\n",
    "ResNet作者第二篇相关论文Identity Mappings in Deep Residual Networks中，提出ResNetV2，和V1主要区别在于，作者通过研究ResNet残差学习单元的传播公式，发现前馈和反馈信号可以直接传输，因此，skip connection 的非线性激活函数（如ReLU）替换为Identity Mappings（y=x）,同时，每一层都是用了BatchNormailzation，这样处理后，新的残差学习单元将比以前更容易训练而且泛化性更强。ResNet类似于一个没有gates的LSTM网络，即输入x传递到后面层的过程是一直发生的，而不是学习出来的。同时，也有论文表示，ResNet基本等价于RNN且ResNet的效果类似于在多层网络间的集成方法（ensemble），另一篇论文The Power of Depth for Feedforward Neural Network 从理论上证明了加深网络比加宽网络更有效。\n",
    "\n",
    "### Hightway Network\n",
    "+ **作者**: 瑞典教授Schmidhuber，LSTM网络发明者（1997）。\n",
    "HightWayNetWork目标就是解决极深的神经网络难以训练的问题，Hightway相当于修改了每一层的激活函数，之前的激活函数作用如下方程：\n",
    "$$y = H(x,W_H)$$\n",
    "Hightway NetWork允许保留一定比例的原始输入x，即\n",
    "$$y = H(x, W_H)\\cdot T(x, W_T) + x\\cdot C(x, W_C)$$\n",
    "其中，T为变换系数，C为保留系数，论文中令\\\\(T + C = 1\\\\),也就是说，前面一层的信息，有一定比例可以不经过矩阵乘法和非线性变换，直接传输到下一层。\n",
    "Hightway Network主要通过gatingunits学习如何控制网络中的信息流，即学习原始信息应保留的比例。这个可学习的gating正是借鉴自Schmidhuber早年的LSTM循环神经网络中的gating，几百乃至上千层深的HighwayNetwork可以直接使用梯度下降算法。并可以配合多种非线性激活函数。学习极深的神经网络现在变得可行了。\n",
    "Hightway Network的设计理论上允许训练任意深的网络，其优化方法基本上与网络的深度独立，而传统的神经网络结构则对深度非常敏感，训练复杂度随深度增加而急剧增加"
   ]
  },
  {
   "cell_type": "markdown",
   "metadata": {},
   "source": [
    "下面实现ResNetV2网络。依然使用方便的contrib.slim库进行辅助创建"
   ]
  },
  {
   "cell_type": "code",
   "execution_count": 12,
   "metadata": {},
   "outputs": [],
   "source": [
    "import collections\n",
    "import tensorflow as tf\n",
    "slim = tf.contrib.slim\n",
    "import math\n",
    "import time\n",
    "import matplotlib.pyplot as plt\n",
    "from datetime import datetime"
   ]
  },
  {
   "cell_type": "markdown",
   "metadata": {},
   "source": [
    "我们使用collections.namedtupe设计ResNet基本Block模块组的named tuple。并用它创建Block类，但只包含数据结构，不包含具体方法。\n",
    "我们要定义一个典型的Block，需要输入三个参数，分别是\n",
    "+ scope\n",
    "+ unit_fn\n",
    "+ args\n",
    "以下面的代码为例\n",
    "```python\n",
    "Block('block1', bottleneck, [(256, 64, 1)]*2 + [(256, 64, 2)])\n",
    "```\n",
    "它可以定义一个典型的Block，其中block1就是这个Block的名称或scope，bottleneck是ResNetV2中的残差学习单元。最后一个参数[(256, 64, 1)]\\*2 + [(256, 64, 2)]则是这个Block的args，args是一个列表，其中每个元素都对应一个bottleneck残差学习单元，前面两个元素都是（256,64,1），最后一个是（256， 64， 2），每个元素都是一个三元tuple，即（depth， depth_bottleneck, stride）,比如（256， 64， 3）代表构建bottleneck残差学习单元中，第三层输出通道数为256， 前两层输出通道数depth_bottleneck为64， 且中间那层的步长stride为3，这个残差学习单元结构即为\n",
    "[(1x1)/s1, 64],[(3x3/s2, 64)],[(1x1/s1, 256)]\n",
    "在这个Block中，一共有3个bottleneck残差学习单元，除了最后一个的步长由3变为2，其余都一直。"
   ]
  },
  {
   "cell_type": "code",
   "execution_count": 2,
   "metadata": {},
   "outputs": [],
   "source": [
    "class Block(collections.namedtuple('Block', ['scope', 'unit_fn', 'args'])):\n",
    "    \"A named tuple describing a ResNet block\""
   ]
  },
  {
   "cell_type": "markdown",
   "metadata": {},
   "source": [
    "下面定义降采样subsample方法，参数包括\n",
    "+ inputs 输入\n",
    "+ factor 采样因子\n",
    "+ scope"
   ]
  },
  {
   "cell_type": "code",
   "execution_count": 3,
   "metadata": {},
   "outputs": [],
   "source": [
    "def subsample(inputs, factor, scope=None):\n",
    "    if factor == 1:\n",
    "        return inputs\n",
    "    else :\n",
    "        return slim.max_pool2d(inputs, [1, 1], stride=factor, scope=scope)"
   ]
  },
  {
   "cell_type": "code",
   "execution_count": 4,
   "metadata": {},
   "outputs": [],
   "source": [
    "def conv2d_same(inputs, num_outputs, kernel_size, stride, scope=None):\n",
    "    if stride == 1:\n",
    "        return slim.conv2d(inputs, num_outputs, kernel_size, stride=1, padding=\"SAME\", scope=scope)\n",
    "    else :\n",
    "        pad_total = kernel_size - 1\n",
    "        pad_beg = pad_total // 2\n",
    "        pad_end = pad_total - pad_beg\n",
    "        inputs = tf.pad(inputs, [[0, 0], [pad_beg, pad_end], [pad_beg, pad_end], [0, 0]])\n",
    "        return slim.conv2d(inputs, num_outputs, kernel_size, stride=stride, padding=\"VALID\", scope=scope)"
   ]
  },
  {
   "cell_type": "code",
   "execution_count": 5,
   "metadata": {},
   "outputs": [],
   "source": [
    "@slim.add_arg_scope\n",
    "def stack_blocks_dense(net, blocks, outputs_collections=None):\n",
    "    for block in blocks:\n",
    "        with tf.variable_scope(block.scope, 'block', [net]) as sc:\n",
    "            for i, unit in enumerate(block.args):\n",
    "                with tf.variable_scope('unit_%d' %(i+1), values=[net]):\n",
    "                    unit_depth, unit_depth_bottleneck, unit_stride = unit\n",
    "                    net = block.unit_fn(net, depth=unit_depth, depth_bottleneck=unit_depth_bottleneck, stride=unit_stride)\n",
    "            net = slim.utils.collect_named_outputs(outputs_collections, sc.name, net)\n",
    "        return net"
   ]
  },
  {
   "cell_type": "code",
   "execution_count": 6,
   "metadata": {},
   "outputs": [],
   "source": [
    "def resnet_arg_scope(is_training=True, weight_decay=0.0001, batch_norm_decay=0.997, batch_norm_epsilon=1e-5, batch_norm_scale=True):\n",
    "    batch_norm_params = {\n",
    "            'is_training': is_training,\n",
    "            'decay': batch_norm_decay,\n",
    "            'epsilon': batch_norm_epsilon,\n",
    "            'scale': batch_norm_scale,\n",
    "            'updates_collections':tf.GraphKeys.UPDATE_OPS\n",
    "    }\n",
    "        \n",
    "    with slim.arg_scope([slim.conv2d], \n",
    "                        weights_regularizer=slim.l2_regularizer(weight_decay),\n",
    "                        weights_initializer=slim.variance_scaling_initializer(),\n",
    "                        activation_fn=tf.nn.relu,\n",
    "                        normalizer_fn=slim.batch_norm,\n",
    "                        normalizer_params=batch_norm_params):\n",
    "        with slim.arg_scope([slim.batch_norm], **batch_norm_params):\n",
    "            with slim.arg_scope([slim.max_pool2d], padding=\"SAME\") as arg_sc:\n",
    "                return arg_sc"
   ]
  },
  {
   "cell_type": "code",
   "execution_count": 7,
   "metadata": {},
   "outputs": [],
   "source": [
    "@slim.add_arg_scope\n",
    "def bottleneck(inputs, depth, depth_bottleneck, stride, outputs_collections=None, scope=None):\n",
    "    with tf.variable_scope(scope, 'bottleneck_v2', [inputs]) as sc:\n",
    "        depth_in = slim.utils.last_dimension(inputs.get_shape(), min_rank=4)\n",
    "        preact = slim.batch_norm(inputs, activation_fn=tf.nn.relu, scope='preact')\n",
    "        if depth == depth_in:\n",
    "            shortcut = subsample(inputs, stride, 'shortcut')\n",
    "        else:\n",
    "            shortcut = slim.conv2d(preact, depth, [1,1], stride=stride, normalizer_fn=None, activation_fn=None, scope=\"shortcut\")\n",
    "            \n",
    "        residual = slim.conv2d(preact, depth_bottleneck, [1,1], stride=1, scope='conv1')\n",
    "        residual = conv2d_same(residual, depth_bottleneck, 3, stride, scope='conv2')\n",
    "        residual = slim.conv2d(residual, depth, [1, 1], stride=1, normalizer_fn=None, activation_fn=None)\n",
    "            \n",
    "        output = shortcut + residual\n",
    "            \n",
    "        return slim.utils.collect_named_outputs(outputs_collections, sc.name, output)\n",
    "    "
   ]
  },
  {
   "cell_type": "code",
   "execution_count": 8,
   "metadata": {},
   "outputs": [],
   "source": [
    "def resnet_v2(inputs, blocks, num_classes=None, global_pool=True, include_root_block=True, reuse=None, scope=None):\n",
    "        with tf.variable_scope(scope, 'resmet_v2', [inputs], reuse=reuse) as sc:\n",
    "            end_points_collection = sc.original_name_scope + \"end_points\"\n",
    "            with slim.arg_scope([slim.conv2d, bottleneck, stack_blocks_dense], outputs_collections=end_points_collection):\n",
    "                net = inputs\n",
    "                if include_root_block:\n",
    "                    with slim.arg_scope([slim.conv2d], activation_fn=tf.nn.relu, normalizer_fn=None):\n",
    "                        net = conv2d_same(net, 64, 7, stride=2, scope='conv1')\n",
    "                    net = slim.max_pool2d(net, [3, 3], stride=2, scope='pool1')\n",
    "                net = stack_blocks_dense(net, blocks)\n",
    "                net = slim.batch_norm(net, activation_fn=tf.nn.relu, scope=\"postnorm\")\n",
    "                if global_pool:\n",
    "                    net = tf.reduce_mean(net, [1, 2], name=\"pool5\", keep_dims=True)\n",
    "                if num_classes is not None:\n",
    "                    net = slim.conv2d(net, num_classes, [1, 1], activation_fn=None, normalizer_fn=None, scope=\"logits\")\n",
    "                end_points = slim.utils.convert_collection_to_dict(end_points_collection)\n",
    "                if num_classes is not None:\n",
    "                    end_points['predictions'] = slim.softmax(net, scope=\"predictions\")\n",
    "                return net, end_points\n",
    "        "
   ]
  },
  {
   "cell_type": "code",
   "execution_count": 9,
   "metadata": {},
   "outputs": [],
   "source": [
    "def resnet_v2_50(inputs, num_classes=None, global_pool=True, reuse=None, scope='resnet_v2_50'):\n",
    "    blocks = [Block('block1', bottleneck, [(256, 64, 1)]*2 + [(256, 64, 2)]),\n",
    "              Block('block2', bottleneck, [(512, 128, 1)]*3 + [(512, 128, 2)]),\n",
    "              Block('block3', bottleneck, [(1024, 256, 1)]*5 + [(1024, 256, 2)]),\n",
    "              Block('block4', bottleneck, [(2048, 512, 1)]*3)]\n",
    "    return resnet_v2(inputs, blocks, num_classes, global_pool, include_root_block=True, reuse=reuse, scope=scope)\n",
    "    \n",
    "def resnet_v2_101(inputs, num_classes=None, global_pool=True, reuse=None, scope='resnet_v2_101'):\n",
    "    blocks = [Block('block1', bottleneck, [(256, 64, 1)]*2 + [(256, 64, 2)]),\n",
    "              Block('block2', bottleneck, [(512, 128, 1)]*3 + [(512, 128, 2)]),\n",
    "              Block('block3', bottleneck, [(1024, 256, 1)]*22 + [(1024, 256, 2)]),\n",
    "              Block('block4', bottleneck, [(2048, 512, 1)]*3)]\n",
    "    return resnet_v2(inputs, blocks, num_classes, global_pool, include_root_block=True, reuse=reuse, scope=scope)\n",
    "    \n",
    "def resnet_v2_152(inputs, num_classes=None, global_pool=True, reuse=None, scope='resnet_v2_152'):\n",
    "    blocks = [Block('block1', bottleneck, [(256, 64, 1)]*2 + [(256, 64, 2)]),\n",
    "              Block('block2', bottleneck, [(512, 128, 1)]*7 + [(512, 128, 2)]),\n",
    "              Block('block3', bottleneck, [(1024, 256, 1)]*35 + [(1024, 256, 2)]),\n",
    "              Block('block4', bottleneck, [(2048, 512, 1)]*3)]\n",
    "    return resnet_v2(inputs, blocks, num_classes, global_pool, include_root_block=True, reuse=reuse, scope=scope)\n",
    "    \n",
    "def resnet_v2_200(inputs, num_classes=None, global_pool=True, reuse=None, scope='resnet_v2_152'):\n",
    "    blocks = [Block('block1', bottleneck, [(256, 64, 1)]*2 + [(256, 64, 2)]),\n",
    "              Block('block2', bottleneck, [(512, 128, 1)]*23 + [(512, 128, 2)]),\n",
    "              Block('block3', bottleneck, [(1024, 256, 1)]*35 + [(1024, 256, 2)]),\n",
    "              Block('block4', bottleneck, [(2048, 512, 1)]*3)]\n",
    "    return resnet_v2(inputs, blocks, num_classes, global_pool, include_root_block=True, reuse=reuse, scope=scope)"
   ]
  },
  {
   "cell_type": "code",
   "execution_count": 10,
   "metadata": {},
   "outputs": [],
   "source": [
    "def time_tensorflow_run(session, target, info_string):\n",
    "    print(\"start time is :%s\" %(datetime.now()))\n",
    "    durations = []\n",
    "    steps = []\n",
    "    num_steps_burn_in = 10\n",
    "    total_duration = 0.\n",
    "    total_duration_squared = 0.\n",
    "    for i in range(num_batches + num_steps_burn_in):\n",
    "        start_time = time.time()\n",
    "        _ = session.run(target)\n",
    "        duration = time.time() - start_time\n",
    "        if i >= num_steps_burn_in:\n",
    "            #print('%s: step %d, duration = %.3f' % (datetime.now(), i-num_steps_burn_in, duration))\n",
    "            durations.append(duration)\n",
    "            steps.append(i - num_steps_burn_in)\n",
    "            total_duration += duration\n",
    "            total_duration_squared += duration * duration\n",
    "    mn = total_duration / num_batches\n",
    "    vr = total_duration_squared / num_batches - mn * mn\n",
    "    sd = math.sqrt(vr)\n",
    "    plt.plot(steps, durations)\n",
    "    plt.xlabel(\"setp\")\n",
    "    plt.ylabel(\"duration/sec\")\n",
    "    plt.title(info_string)\n",
    "    plt.show()\n",
    "    print(\"%s:%s across %d steps, %.3f +/- %.3f sec / batch\" %(datetime.now(), info_string, num_batches, mn, sd))"
   ]
  },
  {
   "cell_type": "code",
   "execution_count": 13,
   "metadata": {},
   "outputs": [],
   "source": [
    "# logfile = r\"D:\\python\\tensorflow\\name_scope2\"\n",
    "# graph = tf.Graph()\n",
    "# with graph.as_default():\n",
    "#     with slim.arg_scope(resnet_arg_scope(is_training=False)):\n",
    "#         inputs = tf.random_normal((32, 244, 244, 3))\n",
    "#         net, end_points = resnet_v2_152(inputs, 1000)\n",
    "# # 创建写入数据的对象，设定log的文件夹，以及要导出的文件的graph数据流图对象\n",
    "# writer = tf.summary.FileWriter(logdir=logfile, graph=graph)\n",
    "# # 写入完成之后要关闭writer对象\n",
    "# writer.close()"
   ]
  },
  {
   "cell_type": "code",
   "execution_count": 11,
   "metadata": {},
   "outputs": [
    {
     "name": "stdout",
     "output_type": "stream",
     "text": [
      "start time is :2018-02-27 14:36:34.664009\n"
     ]
    },
    {
     "data": {
      "image/png": "[encoded data removed]",
      "text/plain": [
       "<matplotlib.figure.Figure at 0x23658d26320>"
      ]
     },
     "metadata": {},
     "output_type": "display_data"
    },
    {
     "name": "stdout",
     "output_type": "stream",
     "text": [
      "2018-02-27 14:45:33.932720:Forward across 100 steps, 4.913 +/- 0.300 sec / batch\n"
     ]
    }
   ],
   "source": [
    "batch_size = 32\n",
    "height, width = 224, 224\n",
    "inputs = tf.random_uniform((batch_size, height, width, 3))\n",
    "with slim.arg_scope(resnet_arg_scope(is_training=False)):\n",
    "    net, end_points = resnet_v2_152(inputs, 1000)\n",
    "\n",
    "init = tf.global_variables_initializer()\n",
    "sess = tf.Session()\n",
    "sess.run(init)\n",
    "num_batches = 100\n",
    "time_tensorflow_run(sess, net, \"Forward\")"
   ]
  }
 ],
 "metadata": {
  "kernelspec": {
   "display_name": "Python 3",
   "language": "python",
   "name": "python3"
  },
  "language_info": {
   "codemirror_mode": {
    "name": "ipython",
    "version": 3
   },
   "file_extension": ".py",
   "mimetype": "text/x-python",
   "name": "python",
   "nbconvert_exporter": "python",
   "pygments_lexer": "ipython3",
   "version": "3.6.1"
  }
 },
 "nbformat": 4,
 "nbformat_minor": 2
}
