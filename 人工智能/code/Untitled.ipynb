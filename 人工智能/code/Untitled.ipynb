{
 "cells": [
  {
   "cell_type": "code",
   "execution_count": 1,
   "metadata": {},
   "outputs": [],
   "source": [
    "import pandas as pd"
   ]
  },
  {
   "cell_type": "code",
   "execution_count": 7,
   "metadata": {},
   "outputs": [],
   "source": [
    "data = pd.read_csv(r\"C:\\Users\\mengfei\\Downloads\\umdface_csv_data\\small_pose_variation.csv\")"
   ]
  },
  {
   "cell_type": "code",
   "execution_count": 8,
   "metadata": {},
   "outputs": [
    {
     "data": {
      "text/html": [
       "<div>\n",
       "<style>\n",
       "    .dataframe thead tr:only-child th {\n",
       "        text-align: right;\n",
       "    }\n",
       "\n",
       "    .dataframe thead th {\n",
       "        text-align: left;\n",
       "    }\n",
       "\n",
       "    .dataframe tbody tr th {\n",
       "        vertical-align: top;\n",
       "    }\n",
       "</style>\n",
       "<table border=\"1\" class=\"dataframe\">\n",
       "  <thead>\n",
       "    <tr style=\"text-align: right;\">\n",
       "      <th></th>\n",
       "      <th>image_one</th>\n",
       "      <th>image_two</th>\n",
       "      <th>result</th>\n",
       "    </tr>\n",
       "  </thead>\n",
       "  <tbody>\n",
       "    <tr>\n",
       "      <th>0</th>\n",
       "      <td>lilyan_tashman/lilyan_tashman_0049.jpg</td>\n",
       "      <td>lilyan_tashman/lilyan_tashman_0009.jpg</td>\n",
       "      <td>1</td>\n",
       "    </tr>\n",
       "    <tr>\n",
       "      <th>1</th>\n",
       "      <td>john_sykes/john_sykes_0012.jpg</td>\n",
       "      <td>marc_ecko/marc_ecko_0016.jpg</td>\n",
       "      <td>-1</td>\n",
       "    </tr>\n",
       "    <tr>\n",
       "      <th>2</th>\n",
       "      <td>john_mcenroe/john_mcenroe_0009.jpg</td>\n",
       "      <td>john_mcenroe/john_mcenroe_0018.jpg</td>\n",
       "      <td>1</td>\n",
       "    </tr>\n",
       "    <tr>\n",
       "      <th>3</th>\n",
       "      <td>jose_feliciano/jose_feliciano_0032.jpg</td>\n",
       "      <td>keith_cronin/keith_cronin_0018.jpg</td>\n",
       "      <td>-1</td>\n",
       "    </tr>\n",
       "    <tr>\n",
       "      <th>4</th>\n",
       "      <td>mark_evans/mark_evans_0010.jpg</td>\n",
       "      <td>mark_evans/mark_evans_0006.jpg</td>\n",
       "      <td>1</td>\n",
       "    </tr>\n",
       "  </tbody>\n",
       "</table>\n",
       "</div>"
      ],
      "text/plain": [
       "                                image_one  \\\n",
       "0  lilyan_tashman/lilyan_tashman_0049.jpg   \n",
       "1          john_sykes/john_sykes_0012.jpg   \n",
       "2      john_mcenroe/john_mcenroe_0009.jpg   \n",
       "3  jose_feliciano/jose_feliciano_0032.jpg   \n",
       "4          mark_evans/mark_evans_0010.jpg   \n",
       "\n",
       "                                image_two  result  \n",
       "0  lilyan_tashman/lilyan_tashman_0009.jpg       1  \n",
       "1            marc_ecko/marc_ecko_0016.jpg      -1  \n",
       "2      john_mcenroe/john_mcenroe_0018.jpg       1  \n",
       "3      keith_cronin/keith_cronin_0018.jpg      -1  \n",
       "4          mark_evans/mark_evans_0006.jpg       1  "
      ]
     },
     "execution_count": 8,
     "metadata": {},
     "output_type": "execute_result"
    }
   ],
   "source": [
    "data.head()"
   ]
  },
  {
   "cell_type": "code",
   "execution_count": 54,
   "metadata": {},
   "outputs": [
    {
     "name": "stderr",
     "output_type": "stream",
     "text": [
      "D:\\Anaconda3\\lib\\site-packages\\h5py\\__init__.py:34: FutureWarning: Conversion of the second argument of issubdtype from `float` to `np.floating` is deprecated. In future, it will be treated as `np.float64 == np.dtype(float).type`.\n",
      "  from ._conv import register_converters as _register_converters\n"
     ]
    }
   ],
   "source": [
    "from tensorflow.contrib.quantize.python import quant_ops\n",
    "from tensorflow.python.framework import graph_util\n",
    "from tensorflow.python.framework import tensor_shape\n",
    "from tensorflow.python.platform import gfile\n",
    "from tensorflow.python.util import compat\n"
   ]
  },
  {
   "cell_type": "code",
   "execution_count": 9,
   "metadata": {},
   "outputs": [],
   "source": [
    "root_dir = r\"C:\\Users\\mengfei\\Downloads\\umdfaces_batch3\""
   ]
  },
  {
   "cell_type": "code",
   "execution_count": 14,
   "metadata": {},
   "outputs": [
    {
     "data": {
      "text/plain": [
       "100000"
      ]
     },
     "execution_count": 14,
     "metadata": {},
     "output_type": "execute_result"
    }
   ],
   "source": [
    "len(data)"
   ]
  },
  {
   "cell_type": "code",
   "execution_count": 15,
   "metadata": {},
   "outputs": [],
   "source": [
    "import os"
   ]
  },
  {
   "cell_type": "code",
   "execution_count": null,
   "metadata": {},
   "outputs": [],
   "source": []
  },
  {
   "cell_type": "code",
   "execution_count": 43,
   "metadata": {
    "collapsed": true
   },
   "outputs": [
    {
     "ename": "TypeError",
     "evalue": "cannot concatenate a non-NDFrame object",
     "traceback": [
      "\u001b[1;31m---------------------------------------------------------------------------\u001b[0m",
      "\u001b[1;31mTypeError\u001b[0m                                 Traceback (most recent call last)",
      "\u001b[1;32m<ipython-input-43-3c63ba045855>\u001b[0m in \u001b[0;36m<module>\u001b[1;34m()\u001b[0m\n\u001b[0;32m     16\u001b[0m \u001b[1;33m\u001b[0m\u001b[0m\n\u001b[0;32m     17\u001b[0m     \u001b[1;32mif\u001b[0m\u001b[1;33m(\u001b[0m\u001b[0mos\u001b[0m\u001b[1;33m.\u001b[0m\u001b[0mpath\u001b[0m\u001b[1;33m.\u001b[0m\u001b[0mexists\u001b[0m\u001b[1;33m(\u001b[0m\u001b[0mos\u001b[0m\u001b[1;33m.\u001b[0m\u001b[0mpath\u001b[0m\u001b[1;33m.\u001b[0m\u001b[0mjoin\u001b[0m\u001b[1;33m(\u001b[0m\u001b[0mroot_dir\u001b[0m\u001b[1;33m,\u001b[0m \u001b[0mimg_1\u001b[0m\u001b[1;33m)\u001b[0m\u001b[1;33m)\u001b[0m \u001b[1;32mand\u001b[0m \u001b[0mos\u001b[0m\u001b[1;33m.\u001b[0m\u001b[0mpath\u001b[0m\u001b[1;33m.\u001b[0m\u001b[0mexists\u001b[0m\u001b[1;33m(\u001b[0m\u001b[0mos\u001b[0m\u001b[1;33m.\u001b[0m\u001b[0mpath\u001b[0m\u001b[1;33m.\u001b[0m\u001b[0mjoin\u001b[0m\u001b[1;33m(\u001b[0m\u001b[0mroot_dir\u001b[0m\u001b[1;33m,\u001b[0m \u001b[0mimg_2\u001b[0m\u001b[1;33m)\u001b[0m\u001b[1;33m)\u001b[0m\u001b[1;33m)\u001b[0m\u001b[1;33m:\u001b[0m\u001b[1;33m\u001b[0m\u001b[0m\n\u001b[1;32m---> 18\u001b[1;33m         \u001b[0mclear_data\u001b[0m\u001b[1;33m[\u001b[0m\u001b[1;34m\"image_one\"\u001b[0m\u001b[1;33m]\u001b[0m\u001b[1;33m.\u001b[0m\u001b[0mappend\u001b[0m\u001b[1;33m(\u001b[0m\u001b[0mimg_1\u001b[0m\u001b[1;33m)\u001b[0m\u001b[1;33m\u001b[0m\u001b[0m\n\u001b[0m\u001b[0;32m     19\u001b[0m         \u001b[0mclear_data\u001b[0m\u001b[1;33m[\u001b[0m\u001b[1;34m\"image_two\"\u001b[0m\u001b[1;33m]\u001b[0m\u001b[1;33m.\u001b[0m\u001b[0mappend\u001b[0m\u001b[1;33m(\u001b[0m\u001b[0mimg_2\u001b[0m\u001b[1;33m)\u001b[0m\u001b[1;33m\u001b[0m\u001b[0m\n\u001b[0;32m     20\u001b[0m         \u001b[0mclear_data\u001b[0m\u001b[1;33m[\u001b[0m\u001b[1;34m\"result\"\u001b[0m\u001b[1;33m]\u001b[0m\u001b[1;33m.\u001b[0m\u001b[0mappend\u001b[0m\u001b[1;33m(\u001b[0m\u001b[0mres\u001b[0m\u001b[1;33m)\u001b[0m\u001b[1;33m\u001b[0m\u001b[0m\n",
      "\u001b[1;32mD:\\Anaconda3\\lib\\site-packages\\pandas\\core\\series.py\u001b[0m in \u001b[0;36mappend\u001b[1;34m(self, to_append, ignore_index, verify_integrity)\u001b[0m\n\u001b[0;32m   1551\u001b[0m             \u001b[0mto_concat\u001b[0m \u001b[1;33m=\u001b[0m \u001b[1;33m[\u001b[0m\u001b[0mself\u001b[0m\u001b[1;33m,\u001b[0m \u001b[0mto_append\u001b[0m\u001b[1;33m]\u001b[0m\u001b[1;33m\u001b[0m\u001b[0m\n\u001b[0;32m   1552\u001b[0m         return concat(to_concat, ignore_index=ignore_index,\n\u001b[1;32m-> 1553\u001b[1;33m                       verify_integrity=verify_integrity)\n\u001b[0m\u001b[0;32m   1554\u001b[0m \u001b[1;33m\u001b[0m\u001b[0m\n\u001b[0;32m   1555\u001b[0m     \u001b[1;32mdef\u001b[0m \u001b[0m_binop\u001b[0m\u001b[1;33m(\u001b[0m\u001b[0mself\u001b[0m\u001b[1;33m,\u001b[0m \u001b[0mother\u001b[0m\u001b[1;33m,\u001b[0m \u001b[0mfunc\u001b[0m\u001b[1;33m,\u001b[0m \u001b[0mlevel\u001b[0m\u001b[1;33m=\u001b[0m\u001b[1;32mNone\u001b[0m\u001b[1;33m,\u001b[0m \u001b[0mfill_value\u001b[0m\u001b[1;33m=\u001b[0m\u001b[1;32mNone\u001b[0m\u001b[1;33m)\u001b[0m\u001b[1;33m:\u001b[0m\u001b[1;33m\u001b[0m\u001b[0m\n",
      "\u001b[1;32mD:\\Anaconda3\\lib\\site-packages\\pandas\\core\\reshape\\concat.py\u001b[0m in \u001b[0;36mconcat\u001b[1;34m(objs, axis, join, join_axes, ignore_index, keys, levels, names, verify_integrity, copy)\u001b[0m\n\u001b[0;32m    204\u001b[0m                        \u001b[0mkeys\u001b[0m\u001b[1;33m=\u001b[0m\u001b[0mkeys\u001b[0m\u001b[1;33m,\u001b[0m \u001b[0mlevels\u001b[0m\u001b[1;33m=\u001b[0m\u001b[0mlevels\u001b[0m\u001b[1;33m,\u001b[0m \u001b[0mnames\u001b[0m\u001b[1;33m=\u001b[0m\u001b[0mnames\u001b[0m\u001b[1;33m,\u001b[0m\u001b[1;33m\u001b[0m\u001b[0m\n\u001b[0;32m    205\u001b[0m                        \u001b[0mverify_integrity\u001b[0m\u001b[1;33m=\u001b[0m\u001b[0mverify_integrity\u001b[0m\u001b[1;33m,\u001b[0m\u001b[1;33m\u001b[0m\u001b[0m\n\u001b[1;32m--> 206\u001b[1;33m                        copy=copy)\n\u001b[0m\u001b[0;32m    207\u001b[0m     \u001b[1;32mreturn\u001b[0m \u001b[0mop\u001b[0m\u001b[1;33m.\u001b[0m\u001b[0mget_result\u001b[0m\u001b[1;33m(\u001b[0m\u001b[1;33m)\u001b[0m\u001b[1;33m\u001b[0m\u001b[0m\n\u001b[0;32m    208\u001b[0m \u001b[1;33m\u001b[0m\u001b[0m\n",
      "\u001b[1;32mD:\\Anaconda3\\lib\\site-packages\\pandas\\core\\reshape\\concat.py\u001b[0m in \u001b[0;36m__init__\u001b[1;34m(self, objs, axis, join, join_axes, keys, levels, names, ignore_index, verify_integrity, copy)\u001b[0m\n\u001b[0;32m    261\u001b[0m         \u001b[1;32mfor\u001b[0m \u001b[0mobj\u001b[0m \u001b[1;32min\u001b[0m \u001b[0mobjs\u001b[0m\u001b[1;33m:\u001b[0m\u001b[1;33m\u001b[0m\u001b[0m\n\u001b[0;32m    262\u001b[0m             \u001b[1;32mif\u001b[0m \u001b[1;32mnot\u001b[0m \u001b[0misinstance\u001b[0m\u001b[1;33m(\u001b[0m\u001b[0mobj\u001b[0m\u001b[1;33m,\u001b[0m \u001b[0mNDFrame\u001b[0m\u001b[1;33m)\u001b[0m\u001b[1;33m:\u001b[0m\u001b[1;33m\u001b[0m\u001b[0m\n\u001b[1;32m--> 263\u001b[1;33m                 \u001b[1;32mraise\u001b[0m \u001b[0mTypeError\u001b[0m\u001b[1;33m(\u001b[0m\u001b[1;34m\"cannot concatenate a non-NDFrame object\"\u001b[0m\u001b[1;33m)\u001b[0m\u001b[1;33m\u001b[0m\u001b[0m\n\u001b[0m\u001b[0;32m    264\u001b[0m \u001b[1;33m\u001b[0m\u001b[0m\n\u001b[0;32m    265\u001b[0m             \u001b[1;31m# consolidate\u001b[0m\u001b[1;33m\u001b[0m\u001b[1;33m\u001b[0m\u001b[0m\n",
      "\u001b[1;31mTypeError\u001b[0m: cannot concatenate a non-NDFrame object"
     ],
     "output_type": "error"
    }
   ],
   "source": [
    "clear_data = data.head(10)\n",
    "\n",
    "for i in range(clear_data.index):\n",
    "    \n",
    "    image_one = data[\"image_one\"]\n",
    "    image_two = data[\"image_two\"]\n",
    "    \n",
    "    if(not os.path.exists(os.path.join(root_dir, image_one)) or  not os.path.exists(os.path.join(root_dir, image_two))):\n",
    "        clear_data."
   ]
  },
  {
   "cell_type": "code",
   "execution_count": 45,
   "metadata": {},
   "outputs": [
    {
     "data": {
      "text/plain": [
       "RangeIndex(start=0, stop=100000, step=1)"
      ]
     },
     "execution_count": 45,
     "metadata": {},
     "output_type": "execute_result"
    }
   ],
   "source": [
    "data.index"
   ]
  },
  {
   "cell_type": "code",
   "execution_count": 51,
   "metadata": {},
   "outputs": [
    {
     "data": {
      "text/plain": [
       "<pandas.core.indexing._LocIndexer at 0x24aeccad668>"
      ]
     },
     "execution_count": 51,
     "metadata": {},
     "output_type": "execute_result"
    }
   ],
   "source": [
    "data.loc(1)"
   ]
  },
  {
   "cell_type": "code",
   "execution_count": 27,
   "metadata": {},
   "outputs": [
    {
     "data": {
      "text/plain": [
       "'C:\\\\Users\\\\mengfei\\\\Downloads\\\\umdfaces_batch3\\\\lilyan_tashman/lilyan_tashman_0009.jpg'"
      ]
     },
     "execution_count": 27,
     "metadata": {},
     "output_type": "execute_result"
    }
   ],
   "source": [
    "os.path.join(root_dir ,data[\"image_one\"][0])\n",
    "os.path.join(root_dir, data[\"image_two\"][0])"
   ]
  },
  {
   "cell_type": "code",
   "execution_count": 26,
   "metadata": {},
   "outputs": [
    {
     "data": {
      "text/plain": [
       "True"
      ]
     },
     "execution_count": 26,
     "metadata": {},
     "output_type": "execute_result"
    }
   ],
   "source": [
    "os.path.exists(os.path.join(root_dir ,data[\"image_one\"][0]))"
   ]
  },
  {
   "cell_type": "code",
   "execution_count": 28,
   "metadata": {},
   "outputs": [
    {
     "data": {
      "text/plain": [
       "True"
      ]
     },
     "execution_count": 28,
     "metadata": {},
     "output_type": "execute_result"
    }
   ],
   "source": [
    "os.path.exists(os.path.join(root_dir ,data[\"image_two\"][0]))"
   ]
  },
  {
   "cell_type": "code",
   "execution_count": 68,
   "metadata": {},
   "outputs": [],
   "source": [
    "def create_image_lists(image_root_dir, testing_percentage, validation_percentage):\n",
    "    if not gfile.Exists(image_root_dir):\n",
    "        tf.logging.error(\"Image directory '\" + image_root_dir + \"' not found\")\n",
    "        return None\n",
    "    # 读取图片数据csv文件\n",
    "    data_csv = pd.read_csv(r\"C:\\Users\\mengfei\\Downloads\\umdface_csv_data\\small_pose_variation.csv\")\n",
    "\n",
    "    training_images = []\n",
    "    testing_images = []\n",
    "    validation_images = []\n",
    "\n",
    "    for i in range(100):\n",
    "        image_one = data_csv[\"image_one\"][i]\n",
    "        image_two = data_csv[\"image_two\"][i]\n",
    "        classes = data_csv[\"result\"][i]\n",
    "        if int(classes) == 1:\n",
    "            classes = 1\n",
    "        else:\n",
    "            classes = 0\n",
    "\n",
    "        # 判断图片文件是否存在\n",
    "        image_one_exists = os.path.exists(os.path.join(image_root_dir, image_one))\n",
    "        image_two_exists = os.path.exists(os.path.join(image_root_dir, image_two))\n",
    "\n",
    "        if image_one_exists and image_two_exists:\n",
    "            item = {\n",
    "                \"one_image\": image_one,\n",
    "                \"two_image\": image_two,\n",
    "                \"result\": classes,\n",
    "            }\n",
    "            print(\"Find image one \" + image_root_dir + \"/\" + image_one)\n",
    "            print(\"Find image two \" + image_root_dir + \"/\" + image_two)\n",
    "            print(\"The result is \" + str(classes))\n",
    "            # 使用简单的随机算法\n",
    "            rand = np.random.randint(0, 100)\n",
    "            if rand < validation_percentage:\n",
    "                validation_images.append(item)\n",
    "            elif rand < (testing_percentage + validation_percentage):\n",
    "                testing_images.append(item)\n",
    "            else:\n",
    "                training_images.append(item)\n",
    "    result = {\n",
    "        \"training\": training_images,\n",
    "        \"testing\": testing_images,\n",
    "        \"validation\": validation_images,\n",
    "    }\n",
    "    print(\n",
    "        \"数据拆分完成：训练集 %d 个， 测试集%d 个，验证集%d 个\" % (len(training_images), len(testing_images), len(validation_images)))\n",
    "    return result"
   ]
  },
  {
   "cell_type": "code",
   "execution_count": 70,
   "metadata": {
    "collapsed": true
   },
   "outputs": [
    {
     "name": "stdout",
     "output_type": "stream",
     "text": [
      "Find image one C:\\Users\\mengfei\\Downloads\\umdfaces_batch3/lilyan_tashman/lilyan_tashman_0049.jpg\n",
      "Find image two C:\\Users\\mengfei\\Downloads\\umdfaces_batch3/lilyan_tashman/lilyan_tashman_0009.jpg\n",
      "The result is %d1\n",
      "Find image one C:\\Users\\mengfei\\Downloads\\umdfaces_batch3/john_mcenroe/john_mcenroe_0009.jpg\n",
      "Find image two C:\\Users\\mengfei\\Downloads\\umdfaces_batch3/john_mcenroe/john_mcenroe_0018.jpg\n",
      "The result is %d1\n",
      "Find image one C:\\Users\\mengfei\\Downloads\\umdfaces_batch3/jose_feliciano/jose_feliciano_0032.jpg\n",
      "Find image two C:\\Users\\mengfei\\Downloads\\umdfaces_batch3/keith_cronin/keith_cronin_0018.jpg\n",
      "The result is %d0\n",
      "Find image one C:\\Users\\mengfei\\Downloads\\umdfaces_batch3/jennifer_arroyo/jennifer_arroyo_0013.jpg\n",
      "Find image two C:\\Users\\mengfei\\Downloads\\umdfaces_batch3/michael_landau/michael_landau_0017.jpg\n",
      "The result is %d0\n",
      "Find image one C:\\Users\\mengfei\\Downloads\\umdfaces_batch3/emeric_pressburger/emeric_pressburger_0004.jpg\n",
      "Find image two C:\\Users\\mengfei\\Downloads\\umdfaces_batch3/emeric_pressburger/emeric_pressburger_0001.jpg\n",
      "The result is %d1\n",
      "Find image one C:\\Users\\mengfei\\Downloads\\umdfaces_batch3/matt_freeman/matt_freeman_0019.jpg\n",
      "Find image two C:\\Users\\mengfei\\Downloads\\umdfaces_batch3/matt_freeman/matt_freeman_0006.jpg\n",
      "The result is %d1\n",
      "Find image one C:\\Users\\mengfei\\Downloads\\umdfaces_batch3/lewis_caroll/lewis_caroll_0031.jpg\n",
      "Find image two C:\\Users\\mengfei\\Downloads\\umdfaces_batch3/oteil_burbridge/oteil_burbridge_0002.jpg\n",
      "The result is %d0\n",
      "Find image one C:\\Users\\mengfei\\Downloads\\umdfaces_batch3/leo_frank/leo_frank_0032.jpg\n",
      "Find image two C:\\Users\\mengfei\\Downloads\\umdfaces_batch3/leo_frank/leo_frank_0025.jpg\n",
      "The result is %d1\n",
      "Find image one C:\\Users\\mengfei\\Downloads\\umdfaces_batch3/kurt_angle/kurt_angle_0020.jpg\n",
      "Find image two C:\\Users\\mengfei\\Downloads\\umdfaces_batch3/george_byron/george_byron_0030.jpg\n",
      "The result is %d0\n",
      "Find image one C:\\Users\\mengfei\\Downloads\\umdfaces_batch3/jack_bruce/jack_bruce_0004.jpg\n",
      "Find image two C:\\Users\\mengfei\\Downloads\\umdfaces_batch3/jack_bruce/jack_bruce_0021.jpg\n",
      "The result is %d1\n",
      "Find image one C:\\Users\\mengfei\\Downloads\\umdfaces_batch3/naomi_wolf/naomi_wolf_0002.jpg\n",
      "Find image two C:\\Users\\mengfei\\Downloads\\umdfaces_batch3/jesse_quin/jesse_quin_0008.jpg\n",
      "The result is %d0\n",
      "Find image one C:\\Users\\mengfei\\Downloads\\umdfaces_batch3/horacio_el_negro_hernandez/horacio_el_negro_hernandez_0030.jpg\n",
      "Find image two C:\\Users\\mengfei\\Downloads\\umdfaces_batch3/michael_chang/michael_chang_0027.jpg\n",
      "The result is %d0\n",
      "Find image one C:\\Users\\mengfei\\Downloads\\umdfaces_batch3/ken_jennings/ken_jennings_0003.jpg\n",
      "Find image two C:\\Users\\mengfei\\Downloads\\umdfaces_batch3/ken_jennings/ken_jennings_0032.jpg\n",
      "The result is %d1\n",
      "Find image one C:\\Users\\mengfei\\Downloads\\umdfaces_batch3/jenny_joseph/jenny_joseph_0008.jpg\n",
      "Find image two C:\\Users\\mengfei\\Downloads\\umdfaces_batch3/jenny_joseph/jenny_joseph_0005.jpg\n",
      "The result is %d1\n",
      "Find image one C:\\Users\\mengfei\\Downloads\\umdfaces_batch3/paul_azinger/paul_azinger_0029.jpg\n",
      "Find image two C:\\Users\\mengfei\\Downloads\\umdfaces_batch3/joseph_brodsky/joseph_brodsky_0019.jpg\n",
      "The result is %d0\n",
      "Find image one C:\\Users\\mengfei\\Downloads\\umdfaces_batch3/marcel_reich-ranicki/marcel_reich-ranicki_0072.jpg\n",
      "Find image two C:\\Users\\mengfei\\Downloads\\umdfaces_batch3/marcel_reich-ranicki/marcel_reich-ranicki_0074.jpg\n",
      "The result is %d1\n",
      "Find image one C:\\Users\\mengfei\\Downloads\\umdfaces_batch3/john_mark_ainsley/john_mark_ainsley_0007.jpg\n",
      "Find image two C:\\Users\\mengfei\\Downloads\\umdfaces_batch3/kevin_dubrow/kevin_dubrow_0026.jpg\n",
      "The result is %d0\n",
      "Find image one C:\\Users\\mengfei\\Downloads\\umdfaces_batch3/joe_namath/joe_namath_0009.jpg\n",
      "Find image two C:\\Users\\mengfei\\Downloads\\umdfaces_batch3/joe_namath/joe_namath_0002.jpg\n",
      "The result is %d1\n",
      "Find image one C:\\Users\\mengfei\\Downloads\\umdfaces_batch3/norman_lear/norman_lear_0036.jpg\n",
      "Find image two C:\\Users\\mengfei\\Downloads\\umdfaces_batch3/michael_wilton/michael_wilton_0020.jpg\n",
      "The result is %d0\n",
      "Find image one C:\\Users\\mengfei\\Downloads\\umdfaces_batch3/john_mccarthy/john_mccarthy_0027.jpg\n",
      "Find image two C:\\Users\\mengfei\\Downloads\\umdfaces_batch3/john_mccarthy/john_mccarthy_0021.jpg\n",
      "The result is %d1\n",
      "Find image one C:\\Users\\mengfei\\Downloads\\umdfaces_batch3/joanna_pacitti/joanna_pacitti_0005.jpg\n",
      "Find image two C:\\Users\\mengfei\\Downloads\\umdfaces_batch3/joanna_pacitti/joanna_pacitti_0001.jpg\n",
      "The result is %d1\n",
      "Find image one C:\\Users\\mengfei\\Downloads\\umdfaces_batch3/erich_fried/erich_fried_0024.jpg\n",
      "Find image two C:\\Users\\mengfei\\Downloads\\umdfaces_batch3/erich_fried/erich_fried_0025.jpg\n",
      "The result is %d1\n",
      "Find image one C:\\Users\\mengfei\\Downloads\\umdfaces_batch3/jan_schakowsky/jan_schakowsky_0008.jpg\n",
      "Find image two C:\\Users\\mengfei\\Downloads\\umdfaces_batch3/emilio_g_segre/emilio_g_segre_0036.jpg\n",
      "The result is %d0\n",
      "Find image one C:\\Users\\mengfei\\Downloads\\umdfaces_batch3/leo_frank/leo_frank_0015.jpg\n",
      "Find image two C:\\Users\\mengfei\\Downloads\\umdfaces_batch3/elwood_blues/elwood_blues_0007.jpg\n",
      "The result is %d0\n",
      "Find image one C:\\Users\\mengfei\\Downloads\\umdfaces_batch3/marshall_holman/marshall_holman_0022.jpg\n",
      "Find image two C:\\Users\\mengfei\\Downloads\\umdfaces_batch3/marshall_holman/marshall_holman_0004.jpg\n",
      "The result is %d1\n",
      "Find image one C:\\Users\\mengfei\\Downloads\\umdfaces_batch3/nadja_peulen/nadja_peulen_0007.jpg\n",
      "Find image two C:\\Users\\mengfei\\Downloads\\umdfaces_batch3/nadja_peulen/nadja_peulen_0035.jpg\n",
      "The result is %d1\n",
      "Find image one C:\\Users\\mengfei\\Downloads\\umdfaces_batch3/herbert_samuel/herbert_samuel_0005.jpg\n",
      "Find image two C:\\Users\\mengfei\\Downloads\\umdfaces_batch3/james_clerk_maxwell/james_clerk_maxwell_0029.jpg\n",
      "The result is %d0\n",
      "Find image one C:\\Users\\mengfei\\Downloads\\umdfaces_batch3/dorothy_m_metcalf-lindenburger/dorothy_m_metcalf-lindenburger_0018.jpg\n",
      "Find image two C:\\Users\\mengfei\\Downloads\\umdfaces_batch3/dorothy_m_metcalf-lindenburger/dorothy_m_metcalf-lindenburger_0014.jpg\n",
      "The result is %d1\n",
      "Find image one C:\\Users\\mengfei\\Downloads\\umdfaces_batch3/hubert_dreyfus/hubert_dreyfus_0008.jpg\n",
      "Find image two C:\\Users\\mengfei\\Downloads\\umdfaces_batch3/michael_kidd/michael_kidd_0006.jpg\n",
      "The result is %d0\n",
      "Find image one C:\\Users\\mengfei\\Downloads\\umdfaces_batch3/paul_auster/paul_auster_0059.jpg\n",
      "Find image two C:\\Users\\mengfei\\Downloads\\umdfaces_batch3/paul_auster/paul_auster_0042.jpg\n",
      "The result is %d1\n",
      "Find image one C:\\Users\\mengfei\\Downloads\\umdfaces_batch3/hanns_eisler/hanns_eisler_0021.jpg\n",
      "Find image two C:\\Users\\mengfei\\Downloads\\umdfaces_batch3/hanns_eisler/hanns_eisler_0005.jpg\n",
      "The result is %d1\n",
      "Find image one C:\\Users\\mengfei\\Downloads\\umdfaces_batch3/marta_kauffman/marta_kauffman_0040.jpg\n",
      "Find image two C:\\Users\\mengfei\\Downloads\\umdfaces_batch3/marta_kauffman/marta_kauffman_0019.jpg\n",
      "The result is %d1\n",
      "Find image one C:\\Users\\mengfei\\Downloads\\umdfaces_batch3/liz_lerman/liz_lerman_0002.jpg\n",
      "Find image two C:\\Users\\mengfei\\Downloads\\umdfaces_batch3/fred_hammond/fred_hammond_0026.jpg\n",
      "The result is %d0\n",
      "Find image one C:\\Users\\mengfei\\Downloads\\umdfaces_batch3/paulette_goddard/paulette_goddard_0020.jpg\n",
      "Find image two C:\\Users\\mengfei\\Downloads\\umdfaces_batch3/paulette_goddard/paulette_goddard_0035.jpg\n",
      "The result is %d1\n",
      "Find image one C:\\Users\\mengfei\\Downloads\\umdfaces_batch3/matt_hoopes/matt_hoopes_0009.jpg\n",
      "Find image two C:\\Users\\mengfei\\Downloads\\umdfaces_batch3/kim_nekroman/kim_nekroman_0004.jpg\n",
      "The result is %d0\n",
      "Find image one C:\\Users\\mengfei\\Downloads\\umdfaces_batch3/marco_minnemann/marco_minnemann_0025.jpg\n",
      "Find image two C:\\Users\\mengfei\\Downloads\\umdfaces_batch3/marco_minnemann/marco_minnemann_0017.jpg\n",
      "The result is %d1\n",
      "Find image one C:\\Users\\mengfei\\Downloads\\umdfaces_batch3/manuel_göttsching/manuel_göttsching_0014.jpg\n",
      "Find image two C:\\Users\\mengfei\\Downloads\\umdfaces_batch3/george_thorogood/george_thorogood_0042.jpg\n",
      "The result is %d0\n",
      "Find image one C:\\Users\\mengfei\\Downloads\\umdfaces_batch3/marty_balin/marty_balin_0014.jpg\n",
      "Find image two C:\\Users\\mengfei\\Downloads\\umdfaces_batch3/marty_balin/marty_balin_0008.jpg\n",
      "The result is %d1\n",
      "Find image one C:\\Users\\mengfei\\Downloads\\umdfaces_batch3/nigel_lawson/nigel_lawson_0031.jpg\n",
      "Find image two C:\\Users\\mengfei\\Downloads\\umdfaces_batch3/nigel_lawson/nigel_lawson_0010.jpg\n",
      "The result is %d1\n",
      "Find image one C:\\Users\\mengfei\\Downloads\\umdfaces_batch3/juan_alderete/juan_alderete_0033.jpg\n",
      "Find image two C:\\Users\\mengfei\\Downloads\\umdfaces_batch3/joseph_klausner/joseph_klausner_0001.jpg\n",
      "The result is %d0\n",
      "Find image one C:\\Users\\mengfei\\Downloads\\umdfaces_batch3/laszlo_jozsef_bíro/laszlo_jozsef_bíro_0008.jpg\n",
      "Find image two C:\\Users\\mengfei\\Downloads\\umdfaces_batch3/martin_karplus/martin_karplus_0030.jpg\n",
      "The result is %d0\n",
      "Find image one C:\\Users\\mengfei\\Downloads\\umdfaces_batch3/edward_feigenbaum/edward_feigenbaum_0013.jpg\n",
      "Find image two C:\\Users\\mengfei\\Downloads\\umdfaces_batch3/edward_feigenbaum/edward_feigenbaum_0017.jpg\n",
      "The result is %d1\n",
      "Find image one C:\\Users\\mengfei\\Downloads\\umdfaces_batch3/herbert_aptheker/herbert_aptheker_0032.jpg\n",
      "Find image two C:\\Users\\mengfei\\Downloads\\umdfaces_batch3/herbert_aptheker/herbert_aptheker_0015.jpg\n",
      "The result is %d1\n",
      "Find image one C:\\Users\\mengfei\\Downloads\\umdfaces_batch3/nell_carter/nell_carter_0007.jpg\n",
      "Find image two C:\\Users\\mengfei\\Downloads\\umdfaces_batch3/nell_carter/nell_carter_0029.jpg\n",
      "The result is %d1\n",
      "Find image one C:\\Users\\mengfei\\Downloads\\umdfaces_batch3/fareed_haque/fareed_haque_0021.jpg\n",
      "Find image two C:\\Users\\mengfei\\Downloads\\umdfaces_batch3/fareed_haque/fareed_haque_0033.jpg\n",
      "The result is %d1\n",
      "Find image one C:\\Users\\mengfei\\Downloads\\umdfaces_batch3/keith_joseph/keith_joseph_0003.jpg\n",
      "Find image two C:\\Users\\mengfei\\Downloads\\umdfaces_batch3/keith_joseph/keith_joseph_0009.jpg\n",
      "The result is %d1\n",
      "Find image one C:\\Users\\mengfei\\Downloads\\umdfaces_batch3/felix_bressart/felix_bressart_0024.jpg\n",
      "Find image two C:\\Users\\mengfei\\Downloads\\umdfaces_batch3/liona_boyd/liona_boyd_0011.jpg\n",
      "The result is %d0\n",
      "Find image one C:\\Users\\mengfei\\Downloads\\umdfaces_batch3/mike_cammalleri/mike_cammalleri_0015.jpg\n",
      "Find image two C:\\Users\\mengfei\\Downloads\\umdfaces_batch3/mike_cammalleri/mike_cammalleri_0022.jpg\n",
      "The result is %d1\n",
      "Find image one C:\\Users\\mengfei\\Downloads\\umdfaces_batch3/helen_frankenthaler/helen_frankenthaler_0002.jpg\n",
      "Find image two C:\\Users\\mengfei\\Downloads\\umdfaces_batch3/edith_stein/edith_stein_0009.jpg\n",
      "The result is %d0\n",
      "Find image one C:\\Users\\mengfei\\Downloads\\umdfaces_batch3/hans_krasa/hans_krasa_0004.jpg\n",
      "Find image two C:\\Users\\mengfei\\Downloads\\umdfaces_batch3/hans_krasa/hans_krasa_0007.jpg\n",
      "The result is %d1\n",
      "Find image one C:\\Users\\mengfei\\Downloads\\umdfaces_batch3/mark_stoermer/mark_stoermer_0012.jpg\n",
      "Find image two C:\\Users\\mengfei\\Downloads\\umdfaces_batch3/laurent_brancowitz/laurent_brancowitz_0016.jpg\n",
      "The result is %d0\n",
      "Find image one C:\\Users\\mengfei\\Downloads\\umdfaces_batch3/gene_snitsky/gene_snitsky_0014.jpg\n",
      "Find image two C:\\Users\\mengfei\\Downloads\\umdfaces_batch3/gene_snitsky/gene_snitsky_0040.jpg\n",
      "The result is %d1\n",
      "Find image one C:\\Users\\mengfei\\Downloads\\umdfaces_batch3/lenny_wilkens/lenny_wilkens_0001.jpg\n",
      "Find image two C:\\Users\\mengfei\\Downloads\\umdfaces_batch3/emmy_noether/emmy_noether_0014.jpg\n",
      "The result is %d0\n",
      "Find image one C:\\Users\\mengfei\\Downloads\\umdfaces_batch3/harvey_milk/harvey_milk_0057.jpg\n",
      "Find image two C:\\Users\\mengfei\\Downloads\\umdfaces_batch3/harvey_milk/harvey_milk_0063.jpg\n",
      "The result is %d1\n",
      "Find image one C:\\Users\\mengfei\\Downloads\\umdfaces_batch3/louise_wener/louise_wener_0021.jpg\n",
      "Find image two C:\\Users\\mengfei\\Downloads\\umdfaces_batch3/henri_mancini/henri_mancini_0020.jpg\n",
      "The result is %d0\n",
      "Find image one C:\\Users\\mengfei\\Downloads\\umdfaces_batch3/george_duke/george_duke_0047.jpg\n",
      "Find image two C:\\Users\\mengfei\\Downloads\\umdfaces_batch3/george_duke/george_duke_0071.jpg\n",
      "The result is %d1\n",
      "Find image one C:\\Users\\mengfei\\Downloads\\umdfaces_batch3/hernández_josé_m/hernández_josé_m_0008.jpg\n",
      "Find image two C:\\Users\\mengfei\\Downloads\\umdfaces_batch3/len_barry/len_barry_0030.jpg\n",
      "The result is %d0\n",
      "Find image one C:\\Users\\mengfei\\Downloads\\umdfaces_batch3/michael_heidelberger/michael_heidelberger_0011.jpg\n",
      "Find image two C:\\Users\\mengfei\\Downloads\\umdfaces_batch3/helene_cixous/helene_cixous_0006.jpg\n",
      "The result is %d0\n",
      "Find image one C:\\Users\\mengfei\\Downloads\\umdfaces_batch3/jonathan_coachman/jonathan_coachman_0004.jpg\n",
      "Find image two C:\\Users\\mengfei\\Downloads\\umdfaces_batch3/jonathan_coachman/jonathan_coachman_0024.jpg\n",
      "The result is %d1\n",
      "Find image one C:\\Users\\mengfei\\Downloads\\umdfaces_batch3/frank_reich/frank_reich_0010.jpg\n",
      "Find image two C:\\Users\\mengfei\\Downloads\\umdfaces_batch3/mikhail_botvinnik/mikhail_botvinnik_0003.jpg\n",
      "The result is %d0\n",
      "Find image one C:\\Users\\mengfei\\Downloads\\umdfaces_batch3/frank_silvera/frank_silvera_0008.jpg\n",
      "Find image two C:\\Users\\mengfei\\Downloads\\umdfaces_batch3/frank_silvera/frank_silvera_0004.jpg\n",
      "The result is %d1\n",
      "Find image one C:\\Users\\mengfei\\Downloads\\umdfaces_batch3/eliane_elias/eliane_elias_0082.jpg\n",
      "Find image two C:\\Users\\mengfei\\Downloads\\umdfaces_batch3/eliane_elias/eliane_elias_0015.jpg\n",
      "The result is %d1\n",
      "Find image one C:\\Users\\mengfei\\Downloads\\umdfaces_batch3/matthew_friedberger/matthew_friedberger_0003.jpg\n",
      "Find image two C:\\Users\\mengfei\\Downloads\\umdfaces_batch3/michael_bennett/michael_bennett_0034.jpg\n",
      "The result is %d0\n",
      "Find image one C:\\Users\\mengfei\\Downloads\\umdfaces_batch3/ken_holtzman/ken_holtzman_0015.jpg\n",
      "Find image two C:\\Users\\mengfei\\Downloads\\umdfaces_batch3/ken_holtzman/ken_holtzman_0006.jpg\n",
      "The result is %d1\n",
      "Find image one C:\\Users\\mengfei\\Downloads\\umdfaces_batch3/gene_barry/gene_barry_0001.jpg\n",
      "Find image two C:\\Users\\mengfei\\Downloads\\umdfaces_batch3/lee_ritenour/lee_ritenour_0036.jpg\n",
      "The result is %d0\n",
      "Find image one C:\\Users\\mengfei\\Downloads\\umdfaces_batch3/heather_whitestone/heather_whitestone_0051.jpg\n",
      "Find image two C:\\Users\\mengfei\\Downloads\\umdfaces_batch3/heather_whitestone/heather_whitestone_0016.jpg\n",
      "The result is %d1\n",
      "Find image one C:\\Users\\mengfei\\Downloads\\umdfaces_batch3/joe_louis/joe_louis_0002.jpg\n",
      "Find image two C:\\Users\\mengfei\\Downloads\\umdfaces_batch3/kelly_groucutt/kelly_groucutt_0004.jpg\n",
      "The result is %d0\n",
      "Find image one C:\\Users\\mengfei\\Downloads\\umdfaces_batch3/maxine_kumin/maxine_kumin_0029.jpg\n",
      "Find image two C:\\Users\\mengfei\\Downloads\\umdfaces_batch3/maxine_kumin/maxine_kumin_0013.jpg\n",
      "The result is %d1\n",
      "Find image one C:\\Users\\mengfei\\Downloads\\umdfaces_batch3/jerry_sheindlin/jerry_sheindlin_0029.jpg\n",
      "Find image two C:\\Users\\mengfei\\Downloads\\umdfaces_batch3/jerry_sheindlin/jerry_sheindlin_0016.jpg\n",
      "The result is %d1\n",
      "Find image one C:\\Users\\mengfei\\Downloads\\umdfaces_batch3/matisyahu/matisyahu_0003.jpg\n",
      "Find image two C:\\Users\\mengfei\\Downloads\\umdfaces_batch3/nosson_zvi_finkel/nosson_zvi_finkel_0015.jpg\n",
      "The result is %d0\n",
      "数据拆分完成：训练集 53 个， 测试集8 个，验证集9 个\n"
     ]
    }
   ],
   "source": [
    "result = create_image_lists(root_dir, 10, 10)"
   ]
  },
  {
   "cell_type": "code",
   "execution_count": 72,
   "metadata": {},
   "outputs": [
    {
     "name": "stdout",
     "output_type": "stream",
     "text": [
      "[{'one_image': 'lilyan_tashman/lilyan_tashman_0049.jpg', 'two_image': 'lilyan_tashman/lilyan_tashman_0009.jpg', 'result': 1}, {'one_image': 'john_mcenroe/john_mcenroe_0009.jpg', 'two_image': 'john_mcenroe/john_mcenroe_0018.jpg', 'result': 1}, {'one_image': 'jennifer_arroyo/jennifer_arroyo_0013.jpg', 'two_image': 'michael_landau/michael_landau_0017.jpg', 'result': 0}, {'one_image': 'matt_freeman/matt_freeman_0019.jpg', 'two_image': 'matt_freeman/matt_freeman_0006.jpg', 'result': 1}, {'one_image': 'leo_frank/leo_frank_0032.jpg', 'two_image': 'leo_frank/leo_frank_0025.jpg', 'result': 1}, {'one_image': 'kurt_angle/kurt_angle_0020.jpg', 'two_image': 'george_byron/george_byron_0030.jpg', 'result': 0}, {'one_image': 'naomi_wolf/naomi_wolf_0002.jpg', 'two_image': 'jesse_quin/jesse_quin_0008.jpg', 'result': 0}, {'one_image': 'horacio_el_negro_hernandez/horacio_el_negro_hernandez_0030.jpg', 'two_image': 'michael_chang/michael_chang_0027.jpg', 'result': 0}, {'one_image': 'ken_jennings/ken_jennings_0003.jpg', 'two_image': 'ken_jennings/ken_jennings_0032.jpg', 'result': 1}, {'one_image': 'jenny_joseph/jenny_joseph_0008.jpg', 'two_image': 'jenny_joseph/jenny_joseph_0005.jpg', 'result': 1}, {'one_image': 'paul_azinger/paul_azinger_0029.jpg', 'two_image': 'joseph_brodsky/joseph_brodsky_0019.jpg', 'result': 0}, {'one_image': 'marcel_reich-ranicki/marcel_reich-ranicki_0072.jpg', 'two_image': 'marcel_reich-ranicki/marcel_reich-ranicki_0074.jpg', 'result': 1}, {'one_image': 'joe_namath/joe_namath_0009.jpg', 'two_image': 'joe_namath/joe_namath_0002.jpg', 'result': 1}, {'one_image': 'norman_lear/norman_lear_0036.jpg', 'two_image': 'michael_wilton/michael_wilton_0020.jpg', 'result': 0}, {'one_image': 'john_mccarthy/john_mccarthy_0027.jpg', 'two_image': 'john_mccarthy/john_mccarthy_0021.jpg', 'result': 1}, {'one_image': 'joanna_pacitti/joanna_pacitti_0005.jpg', 'two_image': 'joanna_pacitti/joanna_pacitti_0001.jpg', 'result': 1}, {'one_image': 'erich_fried/erich_fried_0024.jpg', 'two_image': 'erich_fried/erich_fried_0025.jpg', 'result': 1}, {'one_image': 'leo_frank/leo_frank_0015.jpg', 'two_image': 'elwood_blues/elwood_blues_0007.jpg', 'result': 0}, {'one_image': 'nadja_peulen/nadja_peulen_0007.jpg', 'two_image': 'nadja_peulen/nadja_peulen_0035.jpg', 'result': 1}, {'one_image': 'hubert_dreyfus/hubert_dreyfus_0008.jpg', 'two_image': 'michael_kidd/michael_kidd_0006.jpg', 'result': 0}, {'one_image': 'hanns_eisler/hanns_eisler_0021.jpg', 'two_image': 'hanns_eisler/hanns_eisler_0005.jpg', 'result': 1}, {'one_image': 'marta_kauffman/marta_kauffman_0040.jpg', 'two_image': 'marta_kauffman/marta_kauffman_0019.jpg', 'result': 1}, {'one_image': 'liz_lerman/liz_lerman_0002.jpg', 'two_image': 'fred_hammond/fred_hammond_0026.jpg', 'result': 0}, {'one_image': 'paulette_goddard/paulette_goddard_0020.jpg', 'two_image': 'paulette_goddard/paulette_goddard_0035.jpg', 'result': 1}, {'one_image': 'matt_hoopes/matt_hoopes_0009.jpg', 'two_image': 'kim_nekroman/kim_nekroman_0004.jpg', 'result': 0}, {'one_image': 'marco_minnemann/marco_minnemann_0025.jpg', 'two_image': 'marco_minnemann/marco_minnemann_0017.jpg', 'result': 1}, {'one_image': 'manuel_göttsching/manuel_göttsching_0014.jpg', 'two_image': 'george_thorogood/george_thorogood_0042.jpg', 'result': 0}, {'one_image': 'marty_balin/marty_balin_0014.jpg', 'two_image': 'marty_balin/marty_balin_0008.jpg', 'result': 1}, {'one_image': 'juan_alderete/juan_alderete_0033.jpg', 'two_image': 'joseph_klausner/joseph_klausner_0001.jpg', 'result': 0}, {'one_image': 'laszlo_jozsef_bíro/laszlo_jozsef_bíro_0008.jpg', 'two_image': 'martin_karplus/martin_karplus_0030.jpg', 'result': 0}, {'one_image': 'herbert_aptheker/herbert_aptheker_0032.jpg', 'two_image': 'herbert_aptheker/herbert_aptheker_0015.jpg', 'result': 1}, {'one_image': 'nell_carter/nell_carter_0007.jpg', 'two_image': 'nell_carter/nell_carter_0029.jpg', 'result': 1}, {'one_image': 'fareed_haque/fareed_haque_0021.jpg', 'two_image': 'fareed_haque/fareed_haque_0033.jpg', 'result': 1}, {'one_image': 'felix_bressart/felix_bressart_0024.jpg', 'two_image': 'liona_boyd/liona_boyd_0011.jpg', 'result': 0}, {'one_image': 'helen_frankenthaler/helen_frankenthaler_0002.jpg', 'two_image': 'edith_stein/edith_stein_0009.jpg', 'result': 0}, {'one_image': 'hans_krasa/hans_krasa_0004.jpg', 'two_image': 'hans_krasa/hans_krasa_0007.jpg', 'result': 1}, {'one_image': 'mark_stoermer/mark_stoermer_0012.jpg', 'two_image': 'laurent_brancowitz/laurent_brancowitz_0016.jpg', 'result': 0}, {'one_image': 'gene_snitsky/gene_snitsky_0014.jpg', 'two_image': 'gene_snitsky/gene_snitsky_0040.jpg', 'result': 1}, {'one_image': 'lenny_wilkens/lenny_wilkens_0001.jpg', 'two_image': 'emmy_noether/emmy_noether_0014.jpg', 'result': 0}, {'one_image': 'harvey_milk/harvey_milk_0057.jpg', 'two_image': 'harvey_milk/harvey_milk_0063.jpg', 'result': 1}, {'one_image': 'louise_wener/louise_wener_0021.jpg', 'two_image': 'henri_mancini/henri_mancini_0020.jpg', 'result': 0}, {'one_image': 'george_duke/george_duke_0047.jpg', 'two_image': 'george_duke/george_duke_0071.jpg', 'result': 1}, {'one_image': 'michael_heidelberger/michael_heidelberger_0011.jpg', 'two_image': 'helene_cixous/helene_cixous_0006.jpg', 'result': 0}, {'one_image': 'jonathan_coachman/jonathan_coachman_0004.jpg', 'two_image': 'jonathan_coachman/jonathan_coachman_0024.jpg', 'result': 1}, {'one_image': 'frank_reich/frank_reich_0010.jpg', 'two_image': 'mikhail_botvinnik/mikhail_botvinnik_0003.jpg', 'result': 0}, {'one_image': 'frank_silvera/frank_silvera_0008.jpg', 'two_image': 'frank_silvera/frank_silvera_0004.jpg', 'result': 1}, {'one_image': 'eliane_elias/eliane_elias_0082.jpg', 'two_image': 'eliane_elias/eliane_elias_0015.jpg', 'result': 1}, {'one_image': 'matthew_friedberger/matthew_friedberger_0003.jpg', 'two_image': 'michael_bennett/michael_bennett_0034.jpg', 'result': 0}, {'one_image': 'gene_barry/gene_barry_0001.jpg', 'two_image': 'lee_ritenour/lee_ritenour_0036.jpg', 'result': 0}, {'one_image': 'heather_whitestone/heather_whitestone_0051.jpg', 'two_image': 'heather_whitestone/heather_whitestone_0016.jpg', 'result': 1}, {'one_image': 'joe_louis/joe_louis_0002.jpg', 'two_image': 'kelly_groucutt/kelly_groucutt_0004.jpg', 'result': 0}, {'one_image': 'jerry_sheindlin/jerry_sheindlin_0029.jpg', 'two_image': 'jerry_sheindlin/jerry_sheindlin_0016.jpg', 'result': 1}, {'one_image': 'matisyahu/matisyahu_0003.jpg', 'two_image': 'nosson_zvi_finkel/nosson_zvi_finkel_0015.jpg', 'result': 0}]\n",
      "[{'one_image': 'jose_feliciano/jose_feliciano_0032.jpg', 'two_image': 'keith_cronin/keith_cronin_0018.jpg', 'result': 0}, {'one_image': 'lewis_caroll/lewis_caroll_0031.jpg', 'two_image': 'oteil_burbridge/oteil_burbridge_0002.jpg', 'result': 0}, {'one_image': 'john_mark_ainsley/john_mark_ainsley_0007.jpg', 'two_image': 'kevin_dubrow/kevin_dubrow_0026.jpg', 'result': 0}, {'one_image': 'herbert_samuel/herbert_samuel_0005.jpg', 'two_image': 'james_clerk_maxwell/james_clerk_maxwell_0029.jpg', 'result': 0}, {'one_image': 'paul_auster/paul_auster_0059.jpg', 'two_image': 'paul_auster/paul_auster_0042.jpg', 'result': 1}, {'one_image': 'edward_feigenbaum/edward_feigenbaum_0013.jpg', 'two_image': 'edward_feigenbaum/edward_feigenbaum_0017.jpg', 'result': 1}, {'one_image': 'keith_joseph/keith_joseph_0003.jpg', 'two_image': 'keith_joseph/keith_joseph_0009.jpg', 'result': 1}, {'one_image': 'ken_holtzman/ken_holtzman_0015.jpg', 'two_image': 'ken_holtzman/ken_holtzman_0006.jpg', 'result': 1}]\n",
      "[{'one_image': 'emeric_pressburger/emeric_pressburger_0004.jpg', 'two_image': 'emeric_pressburger/emeric_pressburger_0001.jpg', 'result': 1}, {'one_image': 'jack_bruce/jack_bruce_0004.jpg', 'two_image': 'jack_bruce/jack_bruce_0021.jpg', 'result': 1}, {'one_image': 'jan_schakowsky/jan_schakowsky_0008.jpg', 'two_image': 'emilio_g_segre/emilio_g_segre_0036.jpg', 'result': 0}, {'one_image': 'marshall_holman/marshall_holman_0022.jpg', 'two_image': 'marshall_holman/marshall_holman_0004.jpg', 'result': 1}, {'one_image': 'dorothy_m_metcalf-lindenburger/dorothy_m_metcalf-lindenburger_0018.jpg', 'two_image': 'dorothy_m_metcalf-lindenburger/dorothy_m_metcalf-lindenburger_0014.jpg', 'result': 1}, {'one_image': 'nigel_lawson/nigel_lawson_0031.jpg', 'two_image': 'nigel_lawson/nigel_lawson_0010.jpg', 'result': 1}, {'one_image': 'mike_cammalleri/mike_cammalleri_0015.jpg', 'two_image': 'mike_cammalleri/mike_cammalleri_0022.jpg', 'result': 1}, {'one_image': 'hernández_josé_m/hernández_josé_m_0008.jpg', 'two_image': 'len_barry/len_barry_0030.jpg', 'result': 0}, {'one_image': 'maxine_kumin/maxine_kumin_0029.jpg', 'two_image': 'maxine_kumin/maxine_kumin_0013.jpg', 'result': 1}]\n"
     ]
    }
   ],
   "source": [
    "for category in ['training', 'testing', 'validation']:\n",
    "        category_list = result[category]\n",
    "        print(category_list)"
   ]
  },
  {
   "cell_type": "code",
   "execution_count": 73,
   "metadata": {},
   "outputs": [
    {
     "data": {
      "text/plain": [
       "['fdsfdsfads']"
      ]
     },
     "execution_count": 73,
     "metadata": {},
     "output_type": "execute_result"
    }
   ],
   "source": [
    "\"fdsfdsfads\".split(\"/\")"
   ]
  },
  {
   "cell_type": "code",
   "execution_count": 75,
   "metadata": {},
   "outputs": [
    {
     "data": {
      "text/plain": [
       "['emeric_pressburger', 'emeric_pressburger_0004.jpg']"
      ]
     },
     "execution_count": 75,
     "metadata": {},
     "output_type": "execute_result"
    }
   ],
   "source": [
    "\"emeric_pressburger/emeric_pressburger_0004.jpg\".split(\"/\")"
   ]
  },
  {
   "cell_type": "code",
   "execution_count": 77,
   "metadata": {},
   "outputs": [],
   "source": [
    "p = os.path.join(\"emeric_pressburger\", \"emeric_pressburger_0004.jpg\")"
   ]
  },
  {
   "cell_type": "code",
   "execution_count": 78,
   "metadata": {},
   "outputs": [
    {
     "data": {
      "text/plain": [
       "'emeric_pressburger\\\\emeric_pressburger_0004.jpg'"
      ]
     },
     "execution_count": 78,
     "metadata": {},
     "output_type": "execute_result"
    }
   ],
   "source": [
    "p"
   ]
  },
  {
   "cell_type": "code",
   "execution_count": 83,
   "metadata": {},
   "outputs": [
    {
     "data": {
      "text/plain": [
       "'emeric_pressburger\\\\'"
      ]
     },
     "execution_count": 83,
     "metadata": {},
     "output_type": "execute_result"
    }
   ],
   "source": [
    "p[:len(p) - len(os.path.basename(p))]"
   ]
  },
  {
   "cell_type": "code",
   "execution_count": 84,
   "metadata": {},
   "outputs": [],
   "source": [
    "import tensorflow as tf"
   ]
  },
  {
   "cell_type": "code",
   "execution_count": 96,
   "metadata": {},
   "outputs": [],
   "source": [
    "a = tf.placeholder(shape=[10, 15], dtype=tf.float32)\n",
    "b = tf.placeholder(shape=[10, 15], dtype=tf.float32)\n",
    "c = tf.concat([a, b], axis=1)"
   ]
  },
  {
   "cell_type": "code",
   "execution_count": 87,
   "metadata": {},
   "outputs": [
    {
     "data": {
      "text/plain": [
       "<bound method Tensor.get_shape of <tf.Tensor 'concat:0' shape=(10, 30) dtype=float32>>"
      ]
     },
     "execution_count": 87,
     "metadata": {},
     "output_type": "execute_result"
    }
   ],
   "source": [
    "c.get_shape"
   ]
  },
  {
   "cell_type": "code",
   "execution_count": 91,
   "metadata": {},
   "outputs": [],
   "source": [
    "a = tf.constant([0.003, 0.5, 0.65, 0.32, 0.55])"
   ]
  },
  {
   "cell_type": "code",
   "execution_count": 92,
   "metadata": {},
   "outputs": [],
   "source": [
    "b = tf.round(a)"
   ]
  },
  {
   "cell_type": "code",
   "execution_count": 93,
   "metadata": {},
   "outputs": [
    {
     "name": "stdout",
     "output_type": "stream",
     "text": [
      "[0. 0. 1. 0. 1.]\n"
     ]
    }
   ],
   "source": [
    "with tf.Session() as sess:\n",
    "    print(sess.run(b))"
   ]
  },
  {
   "cell_type": "code",
   "execution_count": 94,
   "metadata": {},
   "outputs": [],
   "source": [
    "a = {}"
   ]
  },
  {
   "cell_type": "code",
   "execution_count": 95,
   "metadata": {},
   "outputs": [
    {
     "ename": "KeyError",
     "evalue": "'ddd'",
     "traceback": [
      "\u001b[1;31m---------------------------------------------------------------------------\u001b[0m",
      "\u001b[1;31mKeyError\u001b[0m                                  Traceback (most recent call last)",
      "\u001b[1;32m<ipython-input-95-b42a051f7fb8>\u001b[0m in \u001b[0;36m<module>\u001b[1;34m()\u001b[0m\n\u001b[1;32m----> 1\u001b[1;33m \u001b[0ma\u001b[0m\u001b[1;33m[\u001b[0m\u001b[1;34m\"ddd\"\u001b[0m\u001b[1;33m]\u001b[0m\u001b[1;33m.\u001b[0m\u001b[0mappend\u001b[0m\u001b[1;33m(\u001b[0m\u001b[1;36m3\u001b[0m\u001b[1;33m)\u001b[0m\u001b[1;33m\u001b[0m\u001b[0m\n\u001b[0m",
      "\u001b[1;31mKeyError\u001b[0m: 'ddd'"
     ],
     "output_type": "error"
    }
   ],
   "source": [
    "a[\"ddd\"].append(3)"
   ]
  },
  {
   "cell_type": "code",
   "execution_count": 97,
   "metadata": {},
   "outputs": [],
   "source": [
    "a = [1, 2, 3,4 ,5, 6]"
   ]
  },
  {
   "cell_type": "code",
   "execution_count": 101,
   "metadata": {},
   "outputs": [],
   "source": [
    "b = np.reshape(np.array(a), [-1, 1])"
   ]
  },
  {
   "cell_type": "code",
   "execution_count": 102,
   "metadata": {},
   "outputs": [
    {
     "data": {
      "text/plain": [
       "(6, 1)"
      ]
     },
     "execution_count": 102,
     "metadata": {},
     "output_type": "execute_result"
    }
   ],
   "source": [
    "b.shape"
   ]
  },
  {
   "cell_type": "code",
   "execution_count": 109,
   "metadata": {},
   "outputs": [
    {
     "name": "stdout",
     "output_type": "stream",
     "text": [
      "[[12]]\n"
     ]
    }
   ],
   "source": [
    "a = tf.constant([[3]])\n",
    "b = tf.constant([[4]])\n",
    "with tf.Session() as sess:\n",
    "    print(sess.run(tf.matmul(a, b)))"
   ]
  },
  {
   "cell_type": "code",
   "execution_count": 1,
   "metadata": {},
   "outputs": [],
   "source": [
    "import cv2"
   ]
  }
 ],
 "metadata": {
  "kernelspec": {
   "display_name": "Python 3",
   "language": "python",
   "name": "python3"
  },
  "language_info": {
   "codemirror_mode": {
    "name": "ipython",
    "version": 3
   },
   "file_extension": ".py",
   "mimetype": "text/x-python",
   "name": "python",
   "nbconvert_exporter": "python",
   "pygments_lexer": "ipython3",
   "version": "3.6.4"
  }
 },
 "nbformat": 4,
 "nbformat_minor": 2
}
