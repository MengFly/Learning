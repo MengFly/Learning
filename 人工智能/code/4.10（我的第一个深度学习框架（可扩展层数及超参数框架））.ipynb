{
 "cells": [
  {
   "cell_type": "markdown",
   "metadata": {},
   "source": [
    "# 我的第一个可调参数深度学习框架\n",
    "在这个笔记中，我准备实现可以自定义深度学习框架，其中，可以定义的超参数如下\n",
    "+ 学习率\n",
    "+ 神经网络层数\n",
    "+ 每一层神经网络的节点数\n",
    "+ 每一层神经网络的激活函数\n",
    "\n",
    "通过定义上面的参数，我们基本可以实现任意层数，任意输入的神经网络。\n",
    "\n",
    "\n",
    "首先，深度学习框架的运算流程，如下如所示：\n",
    "1. **正向传播，第L层的运算如下图所示：**\n",
    "![layer_forward](img/layer_forwrad.png)\n",
    "2. **反向传播，第L层的运算如下图所示**\n",
    "![layer_backward](img/layer_backward.png)\n",
    "\n",
    "因此，把每一层当做一个对象\n",
    "在做抽象之前，我们先准备一些函数，包括**激活函数**，激活函数**导数**等一些函数"
   ]
  },
  {
   "cell_type": "markdown",
   "metadata": {
    "collapsed": true
   },
   "source": [
    "## 定义函数模块\n",
    "### 定义函数名称"
   ]
  },
  {
   "cell_type": "code",
   "execution_count": 4,
   "metadata": {
    "collapsed": true
   },
   "outputs": [],
   "source": [
    "import numpy as np\n",
    "\n",
    "METHOD_SIGMOID = \"sigmoid\"\n",
    "METHOD_RELU = \"ReLU\"\n",
    "METHOD_TANH = \"tanh\"\n",
    "METHOD_LEAKY_RELU = \"leaky ReLU\""
   ]
  },
  {
   "cell_type": "markdown",
   "metadata": {},
   "source": [
    "### 激活函数模块"
   ]
  },
  {
   "cell_type": "code",
   "execution_count": 5,
   "metadata": {
    "collapsed": true
   },
   "outputs": [],
   "source": [
    "def tanh(z):\n",
    "    \"\"\"\n",
    "    tanh函数\n",
    "    :param z:神经网络计算W*A后的输出\n",
    "    :return:tanh函数作用后的输出\n",
    "    \"\"\"\n",
    "    return np.tanh(z)\n",
    "\n",
    "\n",
    "def sigmoid(z):\n",
    "    \"\"\"\n",
    "    sigmoid函数\n",
    "    :param z: 神经网络计算W*A后的输出\n",
    "    :return:sigmoid函数作用后的输出\n",
    "    \"\"\"\n",
    "    return 1 / (1 + np.exp(-z))\n",
    "\n",
    "\n",
    "def relu(z):\n",
    "    \"\"\"\n",
    "    ReLU函数，这里使用numpy的where函数来进行实现\n",
    "    :param z:神经网络计算W*A后的输出\n",
    "    :return:ReLU函数作用后的输出\n",
    "    \"\"\"\n",
    "    return np.where(z < 0, 0, z)\n",
    "\n",
    "\n",
    "def leaky_relu(z, leaky=0.01):\n",
    "    \"\"\"\n",
    "    带有泄漏的ReLU函数\n",
    "    :param z:神经网络计算W*A后的输出\n",
    "    :param leaky:泄漏函数小于零时的斜率，一般值要很小\n",
    "    :return:leaky ReLU函数作用后的输出\n",
    "    \"\"\"\n",
    "    return np.where(z < leaky * z, leaky * z, z)"
   ]
  },
  {
   "cell_type": "markdown",
   "metadata": {},
   "source": [
    "### 定义激活函数导数模块"
   ]
  },
  {
   "cell_type": "code",
   "execution_count": 6,
   "metadata": {
    "collapsed": true
   },
   "outputs": [],
   "source": [
    "def sigmoid_derivative(z):\n",
    "    \"\"\"\n",
    "    sigmoid函数的导数\n",
    "    \"\"\"\n",
    "    return (1 - sigmoid(z)) * sigmoid(z)\n",
    "\n",
    "\n",
    "def relu_derivative(z):\n",
    "    \"\"\"\n",
    "    ReLU函数的导数\n",
    "    \"\"\"\n",
    "    return np.where(z > 0, 1, 0)\n",
    "\n",
    "\n",
    "def leaky_relu_derivative(z, leaky=0.01):\n",
    "    \"\"\"\n",
    "    leaky ReLU 函数导数\n",
    "    \"\"\"\n",
    "    return np.where(z > 0, 1, leaky)\n",
    "\n",
    "\n",
    "def tanh_derivative(z):\n",
    "    \"\"\"\n",
    "    tanh 函数导数\n",
    "    \"\"\"\n",
    "    return 1 - tanh(z) * tanh(z)"
   ]
  },
  {
   "cell_type": "markdown",
   "metadata": {},
   "source": [
    "### 定义根据名称获取特定函数的函数以及损失函数"
   ]
  },
  {
   "cell_type": "code",
   "execution_count": 18,
   "metadata": {
    "collapsed": true
   },
   "outputs": [],
   "source": [
    "def get_method(methodname):\n",
    "    \"\"\"\n",
    "    根据函数名获取相关激活函数\n",
    "    :param method:函数名\n",
    "    :return:相关的激活函数\n",
    "    \"\"\"\n",
    "    if methodname == METHOD_SIGMOID:\n",
    "        return sigmoid\n",
    "    elif methodname == METHOD_RELU:\n",
    "        return relu\n",
    "    elif methodname == METHOD_TANH:\n",
    "        return tanh\n",
    "    elif methodname == METHOD_LEAKY_RELU:\n",
    "        return leaky_relu\n",
    "\n",
    "def get_derivative(methodname):\n",
    "    \"\"\"\n",
    "    根据函数名返回相关的激活函数导数\n",
    "    :param method:函数名\n",
    "    :return:相关的函数导数\n",
    "    \"\"\"\n",
    "    if methodname == METHOD_SIGMOID:\n",
    "        return sigmoid_derivative\n",
    "    elif methodname == METHOD_RELU:\n",
    "        return relu_derivative\n",
    "    elif methodname == METHOD_TANH:\n",
    "        return tanh_derivative\n",
    "    elif methodname == METHOD_LEAKY_RELU:\n",
    "        return leaky_relu_derivative\n",
    "\n",
    "def lost_function(y, calculate_y):\n",
    "    \"\"\"\n",
    "    损失函数\n",
    "    :param y: 期望输出\n",
    "    :param calculate_y:实际输出\n",
    "    \"\"\"\n",
    "    return np.sum(-(y * np.log(calculate_y) + (1 - y) * np.log(1 - calculate_y))) / np.shape(y)[0]"
   ]
  },
  {
   "cell_type": "markdown",
   "metadata": {},
   "source": [
    "## 定义层对象\n",
    "上面我们把一些常见的激活函数和激活函数的导数都定义完成了，那么现在定义最关键的一步，定义层对象，根据上面的解释，层对象至少应该包含以下部分\n",
    "+ **属性**\n",
    " - W\n",
    " - b\n",
    " - cacheZ\n",
    " - input\n",
    "\n",
    "+ **method**\n",
    " - 计算向前输出get_output\n",
    " - 计算向后导数输出compute_derivative\n",
    " \n",
    " **下面是layer层全部代码**"
   ]
  },
  {
   "cell_type": "code",
   "execution_count": 19,
   "metadata": {
    "collapsed": true
   },
   "outputs": [],
   "source": [
    "class Layer(object):\n",
    "    def __init__(self, w_shape, method, alpha):\n",
    "        \"\"\"\n",
    "        初始化layer的\n",
    "        :param w_shape:W参数的shape，类型应该是tuple，另外第一个参数是节点数，第二个参数是输入值的个数\n",
    "        :param method:激活函数\n",
    "        :param alpha: 学习率\n",
    "        \"\"\"\n",
    "        self.method = get_method(method)\n",
    "        self.derivative_method = get_derivative(method)\n",
    "        self.W = np.random.randn(w_shape[0], w_shape[1]) * 0.01\n",
    "        self.b = np.zeros((w_shape[0], 1))\n",
    "        self.alpha = alpha\n",
    "\n",
    "    def get_output(self, prea):\n",
    "        \"\"\"\n",
    "        获取到本层的向前计算的计算结果\n",
    "        :param prea:上一层的输出（这一层的输入）\n",
    "        :return:这一层的计算结果\n",
    "        \"\"\"\n",
    "        self.__cache_input(prea)\n",
    "        z = np.dot(self.W, prea) + self.b\n",
    "        self.__cache_z(z)\n",
    "        return self.method(z)\n",
    "\n",
    "    def compute_derivative(self, da):\n",
    "        \"\"\"\n",
    "        计算上一层的导数，并在计算的过程中调整本层参数\n",
    "        :param da:本层的导数\n",
    "        :return:下一层的导数\n",
    "        \"\"\"\n",
    "        dZ = da * self.derivative_method(self.cache_Z)\n",
    "        self.compute_dw_db(dZ)\n",
    "        return self.compute_pre_da(dZ)\n",
    "\n",
    "    def __cache_z(self, z):\n",
    "        \"\"\"\n",
    "        缓存Z的值\n",
    "        :param z:要缓存的Z的值\n",
    "        \"\"\"\n",
    "        self.cache_Z = z\n",
    "\n",
    "    def __str__(self):\n",
    "        return \"W :\" + str(np.shape(self.W)) + str(self.W) + \"b :\" + str(np.shape(self.b)) + str(self.b)\n",
    "\n",
    "    def adjust_value(self, dW, db):\n",
    "        \"\"\"\n",
    "        调整参数\n",
    "        \"\"\"\n",
    "        self.W -= self.alpha * dW\n",
    "        self.b -= self.alpha * db\n",
    "\n",
    "    def __cache_input(self, a):\n",
    "        \"\"\"\n",
    "        缓存一下输入\n",
    "        :param a:这一层的输入\n",
    "        \"\"\"\n",
    "        self.cache_input = a\n",
    "\n",
    "    def compute_dw_db(self, dz):\n",
    "        \"\"\"\n",
    "        计算这一层的dw和db并进行调整\n",
    "        :param dz:\n",
    "        :return:\n",
    "        \"\"\"\n",
    "        m = dz.shape[1]\n",
    "        dW = np.dot(dz, self.cache_input.T) / m\n",
    "        db = np.sum(dz, axis=1, keepdims=True) / m\n",
    "        self.adjust_value(dW, db)\n",
    "        pass\n",
    "\n",
    "    def compute_pre_da(self, dz):\n",
    "        \"\"\"\n",
    "        计算上层的da\n",
    "        :param dz:\n",
    "        :return:\n",
    "        \"\"\"\n",
    "        return np.dot(self.W.T, dz)\n"
   ]
  },
  {
   "cell_type": "markdown",
   "metadata": {},
   "source": [
    "上面的代码中\n",
    "在对象初始化中，我们初始化了Layer对象的，W，b，激活函数，激活函数导数以及学习率属性\n",
    "在下面的方法中：\n",
    "+ get_output(self, prea):\n",
    "\n",
    " 根据上一层的输入获取到下一层的输出，对应上面的向前传播计算,其中在算法中我们缓存了输入prea以及计算出的中间变量z，因为在之后的计算中会用得到\n",
    " \n",
    "+ compute_derivative(self, da):\n",
    "\n",
    " 根据这一层的导数da获取上一层的导数preda，对应上面的向后传播计算，在这个函数里面，我们将导数计算分为了三部分，第一计算出dz，第二调用函数**compute_dw_db**根据dz计算dw和db，并调用函数**adjust_value**调整W和b参数，第三，调用函数**compute_pre_da**根据dz计算上一层的导数preda，之所以把这一个过程分开来进行计算，是为了后面的代码。下面会解释到"
   ]
  },
  {
   "cell_type": "markdown",
   "metadata": {},
   "source": [
    "## 定义框架类\n",
    "上面已经定义好了神经网络中的层的对象，下面我们就来写框架的类，来达到组织层对象的目的\n",
    "\n",
    "**首先应该明确**\n",
    " 一个框架类对应一个深度学习的网络模型\n",
    " 因此应该在框架初始化的时候定义好下面几个东西\n",
    " \n",
    " 1. 学习率\n",
    " 2. 模型的层数\n",
    " 3. 每一层的激活函数\n",
    " 4. 每一层的节点数"
   ]
  },
  {
   "cell_type": "code",
   "execution_count": 20,
   "metadata": {
    "collapsed": true
   },
   "outputs": [],
   "source": [
    "class AIFrameWork(object):\n",
    "    def __init__(self, nx, layer_nodes, methods, alpha):\n",
    "\n",
    "        \"\"\"\n",
    "        初始化模型\n",
    "        :param nx:要进行训练的训练集的维度\n",
    "        :param layer_nodes:每一层的节点数，从第一层开始（不包含输入层）包含输出层\n",
    "        :param methods 各层的激活函数\n",
    "        :param alpha:学习率\n",
    "        \"\"\"\n",
    "        self.layer_list = []\n",
    "        self.init_layers(nx, layer_nodes, methods, alpha)\n",
    "\n",
    "    def forward_compute(self, x):\n",
    "        \"\"\"\n",
    "        计算正向传播\n",
    "        :param x 输入值\n",
    "        :return 神经网络的最终的预测值\n",
    "        \"\"\"\n",
    "        last_input = x\n",
    "        for layer_item in self.layer_list:\n",
    "            last_input = layer_item.get_output(last_input)\n",
    "        return last_input\n",
    "\n",
    "    def backward_compute(self, y, y_calculate):\n",
    "        \"\"\"\n",
    "        计算反向传播算法\n",
    "        :param y_calculate 预测值\n",
    "        :param y 预期值\n",
    "        \"\"\"\n",
    "        # 直接计算出倒数第一层的dz，防止在计算导数过程中出现的除以零的情况\n",
    "        last_layer_dz = y_calculate - y\n",
    "        last_layer = self.layer_list[-1]\n",
    "        last_layer.compute_dw_db(last_layer_dz)\n",
    "        pre_da = last_layer.compute_pre_da(last_layer_dz)\n",
    "        for layer_item in self.layer_list[-2::-1]:\n",
    "            pre_da = layer_item.compute_derivative(pre_da)\n",
    "\n",
    "    @staticmethod\n",
    "    def show_lost_values(lost_values):\n",
    "        import matplotlib.pyplot as plt\n",
    "        plt.title(\"lost function trend\")\n",
    "        plt.xlabel(\"#iterate\")\n",
    "        plt.ylabel(\"cast\")\n",
    "        plt.plot(lost_values)\n",
    "        plt.show()\n",
    "\n",
    "    def train_layer(self, x, y, n_train=1000, show_lost=False):\n",
    "        \"\"\"\n",
    "        对网络模型进行训练\n",
    "        :param x:输入\n",
    "        :param y:期望输出\n",
    "        :param n_train 对单个训练集的训练次数\n",
    "        :param show_lost 是否显示损失函数的变化情况，默认为不显示\n",
    "        \"\"\"\n",
    "        lost_values = []\n",
    "        for i in range(n_train):\n",
    "            y_calculate = self.forward_compute(x)\n",
    "            self.backward_compute(y, y_calculate)\n",
    "            if show_lost:\n",
    "                lost_value = lost_function(y, y_calculate)\n",
    "                lost_values.append(lost_value)\n",
    "        if show_lost:\n",
    "            self.show_lost_values(lost_values)\n",
    "\n",
    "    def init_layers(self, n_x, layer_nodes, methods, alpha):\n",
    "        \"\"\"\n",
    "        初始化模型的每一层\n",
    "        :param n_x:输入的维度\n",
    "        :param layer_nodes:每一层的节点数\n",
    "        :param methods:每一层的激活函数名称\n",
    "        :param alpha:学习率\n",
    "        :return:初始化完成的神经网络层的列表\n",
    "        \"\"\"\n",
    "        for layer in range(len(layer_nodes)):\n",
    "            if layer == 0:\n",
    "                w_shape = (layer_nodes[layer], n_x)\n",
    "            else:\n",
    "                w_shape = (layer_nodes[layer], layer_nodes[layer - 1])\n",
    "            self.layer_list.append(Layer(w_shape, methods[layer], alpha))\n",
    "        print(\"init layer complete. layer list is\" + str([str(item) for item in self.layer_list]))"
   ]
  },
  {
   "cell_type": "markdown",
   "metadata": {},
   "source": [
    "上面我们已经实现了所有的代码，\n",
    "在输出初始化的时候我们根据每一层的节点数和函数的这个参数初始化了所有的网络层\n",
    "\n",
    "在方法**train_layer**我们分别调用**forward**和**backward**函数进行神经网络的计算，其中的showLost参数是为了观察损失值的变化，来查看训练到了什么程度\n",
    "值得注意的是在向后传播**backward_compute**的算法中，我们直接把最后一层的导数计算了出来，这是因为最后一层的**da = -y/y_cal - (1-y)/(1-y_cal)**,如果预测值即**y_cal**的结果为1或者是0的时候，将会倒是计算错误，因此，将最后一层导数单独进行计算，而不是带入方程由**da**计算出来**dz**， 这样就减少了出现错误的问题。\n",
    "\n",
    "另外，也可以看到，这个框架是在二分分类的基础上的的框架，里面的导数计算也是如此，因此，要想让框架正常工作需要下面两点：\n",
    "\n",
    " 1. 框架必须是二分分类\n",
    " 2. 最后一个层节点数量必须是1\n",
    " 3. 最后一层的激活函数必须是sigmoid函数\n",
    "\n",
    "另外，这个框架未加任何的优化策略，因此我们在下面的测试中可以看到，它不可避免的会出现损失函数呈锯齿状下降，下面来进行测试吧。\n",
    "\n",
    "\n",
    "接下来就是进行测试了，例如我们如果想要实现一个3层,每层为4个节点，输入维度为3的深度学习框架，并且学习率为0.01的话那么就可以这样进行定义\n",
    "\n",
    "```python\n",
    "layer_nodes = np.array([4, 4, 1])\n",
    "alpha = 0.01\n",
    "methods = (METHOD_RELU, METHOD_RELU, METHOD_SIGMOID)\n",
    "ai_model = AIFrameWork(3, layer_nodes, methods, alpha)\n",
    "```\n",
    "这里隐藏层的激活函数我们全部都使用了ReLU函数\n",
    "下面是测试，我们仍旧使用之前使用的数据进行测试\n",
    "实现的仍然是之前文件里面的单隐层网络\n",
    "[3.11 （单隐藏层人工智能网络)](3.11 （单隐藏层人工智能网络）.ipynb)"
   ]
  },
  {
   "cell_type": "markdown",
   "metadata": {},
   "source": [
    "## 测试"
   ]
  },
  {
   "cell_type": "code",
   "execution_count": 21,
   "metadata": {},
   "outputs": [
    {
     "name": "stdout",
     "output_type": "stream",
     "text": [
      "init layer complete. layer list is['W :(4, 3)[[-0.02040112  0.00635929  0.00550285]\\n [ 0.00122742 -0.01549515  0.00136167]\\n [ 0.0053168   0.01280098 -0.01165329]\\n [ 0.01182547  0.00668149 -0.00582494]]b :(4, 1)[[ 0.]\\n [ 0.]\\n [ 0.]\\n [ 0.]]', 'W :(1, 4)[[-0.00247357  0.00408811  0.0008681   0.00588481]]b :(1, 1)[[ 0.]]']\n"
     ]
    },
    {
     "data": {
      "image/png": "[encoded data removed]",
      "text/plain": [
       "<matplotlib.figure.Figure at 0x19fe9575358>"
      ]
     },
     "metadata": {},
     "output_type": "display_data"
    },
    {
     "name": "stdout",
     "output_type": "stream",
     "text": [
      "[[ 0.99114533  0.0328409   0.0328409   0.99956526  0.9968124   0.0328409 ]]\n"
     ]
    }
   ],
   "source": [
    "x = np.array([[1, 2, 4], [4, 6, 8], [4, 5, 6], [3, 5, 9], [2, 4, 0], [9, 2, 7]])\n",
    "\n",
    "y = np.array([1, 0, 0, 1, 1, 0])\n",
    "\n",
    "alpha = 0.01\n",
    "\n",
    "layer_nodes = np.array([4,  1])\n",
    "\n",
    "methods = (METHOD_RELU,  METHOD_SIGMOID)\n",
    "\n",
    "ai_model = AIFrameWork(3, layer_nodes, methods, alpha)\n",
    "\n",
    "ai_model.train_layer(x.T, y, n_train=10000, show_lost=True)\n",
    "\n",
    "test_out = ai_model.forward_compute(x.T)\n",
    "\n",
    "print(test_out)\n"
   ]
  },
  {
   "cell_type": "code",
   "execution_count": 22,
   "metadata": {},
   "outputs": [
    {
     "data": {
      "image/png": "[encoded data removed]",
      "text/plain": [
       "<matplotlib.figure.Figure at 0x19fe955b240>"
      ]
     },
     "metadata": {},
     "output_type": "display_data"
    }
   ],
   "source": [
    "ai_model.train_layer(x.T, y, show_lost=True)"
   ]
  },
  {
   "cell_type": "code",
   "execution_count": 23,
   "metadata": {},
   "outputs": [
    {
     "data": {
      "image/png": "[encoded data removed]",
      "text/plain": [
       "<matplotlib.figure.Figure at 0x19fe9543860>"
      ]
     },
     "metadata": {},
     "output_type": "display_data"
    }
   ],
   "source": [
    "ai_model.train_layer(x.T, y, show_lost=True)"
   ]
  },
  {
   "cell_type": "code",
   "execution_count": 24,
   "metadata": {},
   "outputs": [
    {
     "data": {
      "text/plain": [
       "array([[ 0.99333023,  0.02566677,  0.02566677,  0.99972113,  0.99762479,\n",
       "         0.02566677]])"
      ]
     },
     "execution_count": 24,
     "metadata": {},
     "output_type": "execute_result"
    }
   ],
   "source": [
    "ai_model.forward_compute(x.T)"
   ]
  },
  {
   "cell_type": "markdown",
   "metadata": {},
   "source": [
    "#### 计算绝对误差"
   ]
  },
  {
   "cell_type": "code",
   "execution_count": 26,
   "metadata": {},
   "outputs": [
    {
     "name": "stdout",
     "output_type": "stream",
     "text": [
      "平均绝对误差为：0.0143873595653\n"
     ]
    }
   ],
   "source": [
    "relative_error = (np.sum(np.abs(ai_model.forward_compute(x.T) - y)))/np.shape(y)[0] \n",
    "print(\"平均绝对误差为：\" + str(relative_error))"
   ]
  },
  {
   "cell_type": "markdown",
   "metadata": {},
   "source": [
    "可以看到，这里在下降过程中的线条很粗，其实我们放大了看的话是下面的情况：\n",
    "![lost_graph](img/lost_graph.png)\n",
    "因此，可以看到，它的下降是在曲折的过程中逐渐下降的，在学习了第二节课后希望写出的模型能够下降的更快。能够减缓这种曲折的程度\n",
    "\n",
    "另外，在测试模型的过程中，偶尔会出现模型训练失败的情况，我猜测可能是因为初始化的时候参数合适导致的吧"
   ]
  },
  {
   "cell_type": "markdown",
   "metadata": {},
   "source": [
    "<a href=\"https://github.com/mengfly\"><img height=\"80px\" width=\"80px\" src=\"img/erweima.png\" alt=\"扫描二维码查看我的github\"/></a>"
   ]
  },
  {
   "cell_type": "code",
   "execution_count": null,
   "metadata": {
    "collapsed": true
   },
   "outputs": [],
   "source": []
  }
 ],
 "metadata": {
  "kernelspec": {
   "display_name": "Python 3",
   "language": "python",
   "name": "python3"
  },
  "language_info": {
   "codemirror_mode": {
    "name": "ipython",
    "version": 3
   },
   "file_extension": ".py",
   "mimetype": "text/x-python",
   "name": "python",
   "nbconvert_exporter": "python",
   "pygments_lexer": "ipython3",
   "version": "3.6.1"
  }
 },
 "nbformat": 4,
 "nbformat_minor": 2
}
