{
 "cells": [
  {
   "cell_type": "markdown",
   "metadata": {},
   "source": [
    "## Python基础"
   ]
  },
  {
   "cell_type": "markdown",
   "metadata": {},
   "source": [
    "创建一个和原list相同元素的list"
   ]
  },
  {
   "cell_type": "code",
   "execution_count": 1,
   "metadata": {
    "collapsed": true
   },
   "outputs": [
    {
     "name": "stdout",
     "output_type": "stream",
     "text": [
      "['a', 'b', 'c']\n"
     ]
    }
   ],
   "source": [
    "x = ['a', 'b', 'c']\n",
    "y = list(x)\n",
    "y = x[:]\n",
    "print(y)"
   ]
  },
  {
   "cell_type": "markdown",
   "metadata": {},
   "source": [
    "### Python中的函数\n",
    "\n",
    "+ round(1.68, 1)\n",
    "+ round(1.68)\n",
    "\n",
    " 第二个参数就是要截取的数值的小数点的位数、"
   ]
  },
  {
   "cell_type": "code",
   "execution_count": null,
   "metadata": {},
   "outputs": [],
   "source": [
    "print(round(1.68, 1)) # 1.7\n",
    "print(round(1.68)) # 2"
   ]
  },
  {
   "cell_type": "markdown",
   "metadata": {},
   "source": [
    "## NumberPy\n",
    "+ 创建array"
   ]
  },
  {
   "cell_type": "code",
   "execution_count": 2,
   "metadata": {
    "collapsed": true
   },
   "outputs": [
    {
     "name": "stdout",
     "output_type": "stream",
     "text": [
      "[1 2 3 4]\n"
     ]
    }
   ],
   "source": [
    "# 创建array\n",
    "import numpy as np\n",
    "a = np.array([1,2,3,4])\n",
    "print(a)"
   ]
  },
  {
   "cell_type": "markdown",
   "metadata": {},
   "source": [
    "+ array的计算\n",
    " \n",
    " 在python自身提供的list中没有办法做到一行代码就对两个list进行运算（例如对两个list中对应的元素进行相乘，得到的结果成为一个新的list，我们必须进行遍历两个list，从而得到最终的结果，而**numpy**就为我们提供了这种方便和速度）\n",
    " \n",
    " numpy中的数组元素只能是一种类型。而且如果放入的数组元素的类型不一样的时候，就会被转换为相同的类型"
   ]
  },
  {
   "cell_type": "code",
   "execution_count": 8,
   "metadata": {
    "collapsed": true
   },
   "outputs": [
    {
     "name": "stdout",
     "output_type": "stream",
     "text": [
      "[ 21.85171573  20.97505669  21.75028214  24.7473475   21.44127836]\n",
      "[False False False  True False]\n",
      "[ 24.7473475]\n"
     ]
    }
   ],
   "source": [
    "import numpy as np\n",
    "# 使用numpy计算体质指数\n",
    "height = [1.73, 1.68, 1.71, 1.89, 1.79]\n",
    "weight = [65.4, 59.2, 63.6, 88.4, 68.7]\n",
    "\n",
    "np_height = np.array(height)\n",
    "np_weight = np.array(weight)\n",
    "\n",
    "bmi = np_weight / np_height ** 2\n",
    "\n",
    "print(bmi)\n",
    "#[ 21.85171573  20.97505669  21.75028214  24.7473475   21.44127836]\n",
    "print(bmi > 23)\n",
    "#[False False False  True False]\n",
    "print(bmi[bmi>23])\n",
    "#[ 24.7473475]"
   ]
  },
  {
   "cell_type": "markdown",
   "metadata": {},
   "source": [
    "+ 二维数组\n",
    "\n",
    " - 创建二维数组\n",
    " - 获取二维数组规模\n",
    " - 获取数组中的元素\n",
    " \n",
    " 二维数组中规则也是一样的，数组中的元素的类型也必须是一样的，如果不一样就会自动转化为相同的类型"
   ]
  },
  {
   "cell_type": "code",
   "execution_count": 14,
   "metadata": {
    "collapsed": true
   },
   "outputs": [
    {
     "name": "stdout",
     "output_type": "stream",
     "text": [
      "[[  1.73   1.68   1.71   1.89   1.79]\n",
      " [ 65.4   59.2   63.6   88.4   68.7 ]]\n",
      "(2, 5)\n",
      "63.6\n",
      "63.6\n",
      "[[  1.68   1.71]\n",
      " [ 59.2   63.6 ]]\n",
      "[ 65.4  59.2  63.6  88.4  68.7]\n"
     ]
    }
   ],
   "source": [
    "import numpy as np\n",
    "\n",
    "# 创建二维数组\n",
    "np_2d = np.array([[1.73, 1.68, 1.71, 1.89, 1.79], [65.4, 59.2, 63.6, 88.4, 68.7]])\n",
    "print(np_2d)\n",
    "\n",
    "#获取二维数组规模\n",
    "print(np_2d.shape) #(2, 5)\n",
    "\n",
    "#获取数组中的元素\n",
    "print(np_2d[1][2])\n",
    "print(np_2d[1,2])\n",
    "print(np_2d[:, 1:3])\n",
    "print(np_2d[1,:])"
   ]
  },
  {
   "cell_type": "markdown",
   "metadata": {},
   "source": [
    "## 数据可视化\n",
    "\n",
    "+ matplotlib\n",
    " - 折线图\n",
    " - 散点图\n",
    " - 直方图"
   ]
  },
  {
   "cell_type": "code",
   "execution_count": 21,
   "metadata": {
    "collapsed": true
   },
   "outputs": [
    {
     "data": {
      "image/png": "[encoded data removed]",
      "text/plain": [
       "<matplotlib.figure.Figure at 0x26512fc2320>"
      ]
     },
     "metadata": {},
     "output_type": "display_data"
    },
    {
     "data": {
      "image/png": "[encoded data removed]",
      "text/plain": [
       "<matplotlib.figure.Figure at 0x26512dd81d0>"
      ]
     },
     "metadata": {},
     "output_type": "display_data"
    }
   ],
   "source": [
    "import matplotlib.pyplot as plt\n",
    "\n",
    "year = [1950, 1970, 1990, 2010]\n",
    "pop = [2.519, 3.629, 5.263, 6.972]\n",
    "\n",
    "# 折线图\n",
    "# plt.plot(year, pop)\n",
    "# 填充为区域\n",
    "plt.fill_between(year, pop, 0, color='green')\n",
    "# 添加坐标轴标签\n",
    "plt.xlabel('Year')\n",
    "plt.ylabel('Population')\n",
    "plt.title('Word Population Projections')\n",
    "# 添加刻度,第二个参数是显示出来的刻度，可以不加\n",
    "plt.yticks([0, 2, 4, 6, 8, 10],['0', '2B', '4B', '6B', '8B', '10B'])\n",
    "plt.show()\n",
    "# 散点图\n",
    "plt.scatter(year, pop)\n",
    "plt.show()"
   ]
  },
  {
   "cell_type": "code",
   "execution_count": 18,
   "metadata": {
    "collapsed": true
   },
   "outputs": [
    {
     "data": {
      "image/png": "[encoded data removed]",
      "text/plain": [
       "<matplotlib.figure.Figure at 0x265125f2198>"
      ]
     },
     "metadata": {},
     "output_type": "display_data"
    }
   ],
   "source": [
    "import matplotlib.pyplot as plt\n",
    "values = [0, 0.6, 1.4, 1.6, 2.2, 2.5, 2.6, 3.2, 3.5, 3.9, 4.2, 6]\n",
    "# 直方图\n",
    "plt.hist(values, bins = 3)\n",
    "plt.show()"
   ]
  }
 ],
 "metadata": {
  "celltoolbar": "Raw Cell Format",
  "kernelspec": {
   "display_name": "Python 3",
   "language": "python",
   "name": "python3"
  },
  "language_info": {
   "codemirror_mode": {
    "name": "ipython",
    "version": 3
   },
   "file_extension": ".py",
   "mimetype": "text/x-python",
   "name": "python",
   "nbconvert_exporter": "python",
   "pygments_lexer": "ipython3",
   "version": "3.6.1"
  }
 },
 "nbformat": 4,
 "nbformat_minor": 2
}
