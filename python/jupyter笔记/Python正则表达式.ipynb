{
 "cells": [
  {
   "cell_type": "markdown",
   "metadata": {},
   "source": [
    "### 简单的一个例子"
   ]
  },
  {
   "cell_type": "code",
   "execution_count": 5,
   "metadata": {},
   "outputs": [
    {
     "name": "stdout",
     "output_type": "stream",
     "text": [
      "imooc\n",
      "(0, 5)\n"
     ]
    }
   ],
   "source": [
    "import re\n",
    "str1 = 'imooc python'\n",
    "p = re.compile(r'imooc')\n",
    "m = p.match(str1)\n",
    "# 获取结果\n",
    "print(m.group())\n",
    "# 获取位置\n",
    "print(m.span())"
   ]
  },
  {
   "cell_type": "markdown",
   "metadata": {},
   "source": [
    "### 修正模式\n",
    "+ re.I 忽略大小写\n",
    "+ re.M 多行匹配\n",
    "+ re.U 根据Unicode字符解析字符\n",
    "+ re.S .可以匹配换行符（默认是不匹配的）"
   ]
  },
  {
   "cell_type": "code",
   "execution_count": 7,
   "metadata": {},
   "outputs": [
    {
     "name": "stdout",
     "output_type": "stream",
     "text": [
      "imooc\n"
     ]
    }
   ],
   "source": [
    "pa = re.compile(r'imooc', re.I)\n",
    "m = pa.match(str1)\n",
    "print(m.group())"
   ]
  },
  {
   "cell_type": "markdown",
   "metadata": {},
   "source": [
    "### 语法\n",
    "+ . 任意字符（除了\\n）\n",
    "+ \\[...\\] 字符集\n",
    "+ \\d \\D 数组 非数字\n",
    "+ \\s \\S 空白 非空白\n",
    "+ \\w \\W 单词字符(a-zA-Z0-9) 非单词字符\n",
    "+ \\* 前一个字符0或无限次\n",
    "+ \\+ 前一个字符1或无限次\n",
    "+ ? 0/1\n",
    "+ {m}/{m,n} 前一个字符m或n次\n",
    "+ \\*? +? ?? 非贪婪模式\n",
    "+ ^ 字符串开头\n",
    "+ $ 字符串结尾\n",
    "+ \\A \\Z 指定的字符串必须出现在开头/结尾\n",
    "+ | 匹配左右任意一个表达式\n",
    "+ (ab) 括号中为一个分组\n",
    "+ \\\\ \\<number\\> 引用编号为number的分组匹配到的字符串\n",
    "+ (?p<name>) 分组起一个别名\n",
    "+ (?p=name) 引用别名为name的分组匹配字符串"
   ]
  },
  {
   "cell_type": "markdown",
   "metadata": {},
   "source": [
    "### re一些方法\n",
    "+ re.search() 查看一个匹配\n",
    "+ re.findall() 查找到所有匹配\n",
    "+ re.sub(pattern, repl, string, count = 0, flags = 0) 替换\n",
    "+ re.split(pattern, string, maxsplit = 0, flags = 0) 分割\n"
   ]
  },
  {
   "cell_type": "code",
   "execution_count": 9,
   "metadata": {
    "scrolled": false
   },
   "outputs": [
    {
     "data": {
      "text/plain": [
       "'imooc videonum = 1001'"
      ]
     },
     "execution_count": 9,
     "metadata": {},
     "output_type": "execute_result"
    }
   ],
   "source": [
    "# sub函数repl的参数类型可以是函数\n",
    "# 实例\n",
    "def add1(match):\n",
    "    val = match.group()\n",
    "    num = int(val) + 1\n",
    "    return str(num)\n",
    "re.sub(r'\\d+', add1, 'imooc videonum = 1000')"
   ]
  },
  {
   "cell_type": "markdown",
   "metadata": {},
   "source": [
    "上面的解释：\n",
    "\n",
    "当sub的第二个参数是一个函数的时候，他会把匹配结束后的match对象传递给这个函数，我们可以通过这个match参数对我们获取后的数值进行操作"
   ]
  },
  {
   "cell_type": "markdown",
   "metadata": {},
   "source": [
    "### 实例：获取mooc网上面课程图片地址"
   ]
  },
  {
   "cell_type": "code",
   "execution_count": 21,
   "metadata": {},
   "outputs": [
    {
     "name": "stdout",
     "output_type": "stream",
     "text": [
      "23\n",
      "ElasticSearch入门 \n",
      "http://img1.mukewang.com/59b77bac0001985906000338-240-135.jpg\n",
      "Docker入门\n",
      "http://img3.mukewang.com/597e973600011a6e06000338-240-135.jpg\n",
      "Javascript实现二叉树算法\n",
      "http://img2.mukewang.com/59ae0e2a0001307706000338-240-135.jpg\n",
      "PHP-面向对象\n",
      "http://img2.mukewang.com/59acb1650001adce06000338-240-135.jpg\n",
      "Android图表绘制之直方图\n",
      "http://img3.mukewang.com/599150070001993506000338-240-135.jpg\n",
      "集成MultiDex项目实战\n",
      "http://img2.mukewang.com/59af678e00017c3b06000338-240-135.jpg\n",
      "基于websocket的火拼俄罗斯（升级版）\n",
      "http://img3.mukewang.com/5992c1fa0001aeb206000338-240-135.jpg\n",
      "探秘Spring AOP\n",
      "http://img.mukewang.com/597fe9340001624e06000338-240-135.jpg\n",
      "iOS开发之Audio特辑\n",
      "http://img4.mukewang.com/599ac6dd000118c406000338-240-135.jpg\n",
      "基于websocket的火拼俄罗斯（单机版）\n",
      "http://img1.mukewang.com/598aee4a00019aaf06000338-240-135.jpg\n",
      "移动UI设计基础入门\n",
      "http://img.mukewang.com/59927c1b0001154f06000338-240-135.jpg\n",
      "基于Websocket的火拼俄罗斯（基础）\n",
      "http://img1.mukewang.com/5965df2e00014f8706000338-240-135.jpg\n",
      "web安全之SQL注入\n",
      "http://img3.mukewang.com/5991489e00019f5c06000338-240-135.jpg\n",
      "Android常见的三种图片加载库\n",
      "http://img2.mukewang.com/57fb629000019d3d06000338-240-135.jpg\n",
      "HBase入门\n",
      "http://img3.mukewang.com/598986ae0001f07706000338-240-135.jpg\n",
      "游戏测试入门\n",
      "http://img.mukewang.com/598938e20001888e06000338-240-135.jpg\n",
      "使用React构建一款音乐播放器\n",
      "http://img.mukewang.com/597e96f10001c25f06000338-240-135.jpg\n",
      "浅析SQLmap\n",
      "http://img2.mukewang.com/5977373b0001318505910331-240-135.jpg\n",
      "号码归属地查询实用工具\n",
      "http://img1.mukewang.com/585778ca0001586306000338-240-135.jpg\n",
      "前端性能优化-通用的缓存SDK\n",
      "http://img.mukewang.com/598026ce0001263d06000338-240-135.jpg\n",
      "Python 全栈案例初体验\n",
      "http://img1.mukewang.com/598287cd00014dc606000338-240-135.jpg\n",
      "Requirejs和自动打包\n",
      "http://img4.mukewang.com/586b64ee0001df7906000338-240-135.jpg\n",
      "iOS界面间传值\n",
      "http://img.mukewang.com/596c81600001bcd806000338-240-135.jpg\n"
     ]
    }
   ],
   "source": [
    "import urllib.request\n",
    "import re\n",
    "def get_u_a_headers() :\n",
    "    user_key = 'User-Agent'\n",
    "    user_value = 'Mozilla/5.0 (Windows NT 10.0; Win64; x64) AppleWebKit/537.36 (KHTML, like Gecko) Chrome/62.0.3202.9 Safari/537.36'\n",
    "    headers = (user_key, user_value)\n",
    "    return headers\n",
    "    \n",
    "url = \"http://imooc.com/course/list\"\n",
    "req = urllib.request.Request(url)\n",
    "headkey, headvalue = get_u_a_headers()\n",
    "req.add_header(headkey, headvalue)\n",
    "data = urllib.request.urlopen(req, timeout=3).read()\n",
    "\n",
    "# 匹配图片地址的正则表达式\n",
    "pat = r'<img class=\"course-banner lazy\" data-original=\"(http://[.\\w/\\-]+.jpg)\"'\n",
    "# 匹配课程名称的正则表达式\n",
    "pat_crouse_name = r'<h3 class=\"course-card-name\">(.+)</h3>'\n",
    "data = data.decode('utf-8')\n",
    "\n",
    "result = re.findall(pat, data)\n",
    "name_result = re.findall(pat_crouse_name, data)\n",
    "\n",
    "n = min(len(result), len(name_result))\n",
    "print(n)\n",
    "for i in range(n):\n",
    "    print(name_result[i])\n",
    "    print(result[i])"
   ]
  }
 ],
 "metadata": {
  "kernelspec": {
   "display_name": "Python 3",
   "language": "python",
   "name": "python3"
  },
  "language_info": {
   "codemirror_mode": {
    "name": "ipython",
    "version": 3
   },
   "file_extension": ".py",
   "mimetype": "text/x-python",
   "name": "python",
   "nbconvert_exporter": "python",
   "pygments_lexer": "ipython3",
   "version": "3.6.1"
  }
 },
 "nbformat": 4,
 "nbformat_minor": 2
}
