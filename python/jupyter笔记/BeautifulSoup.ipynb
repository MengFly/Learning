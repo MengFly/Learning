{
 "cells": [
  {
   "cell_type": "markdown",
   "metadata": {},
   "source": [
    "## BeautifulSoup"
   ]
  },
  {
   "cell_type": "markdown",
   "metadata": {},
   "source": [
    "BeautifulSoup是解析，遍历，维护“标签树”的功能库"
   ]
  },
  {
   "cell_type": "code",
   "execution_count": 2,
   "metadata": {},
   "outputs": [
    {
     "data": {
      "text/plain": [
       "200"
      ]
     },
     "execution_count": 2,
     "metadata": {},
     "output_type": "execute_result"
    }
   ],
   "source": [
    "import requests\n",
    "r = requests.get(\"http://python123.io/ws/demo.html\")\n",
    "r.status_code"
   ]
  },
  {
   "cell_type": "code",
   "execution_count": null,
   "metadata": {},
   "outputs": [],
   "source": [
    "from bs4 import BeautifulSoup\n",
    "r.encoding = r.apparent_encoding\n",
    "data = r.text\n",
    "soup = BeautifulSoup(data, 'html.parser')"
   ]
  },
  {
   "cell_type": "markdown",
   "metadata": {},
   "source": [
    "### BeautifulSoup库解析器\n",
    "\n",
    "|   解析器   |   使用方法     |条件|\n",
    "|-------------|---------------|----|\n",
    "|bs4的HTML解析器|BeautifulSoup(mk, 'html.parser')|安装bs4库|\n",
    "|lxml的Html解析器|B...(mk, 'lxmk')| pip install lxml|\n",
    "|lxml的XML解析器|B...(mk, 'xml')| pip install lxml|\n",
    "|html5的解析器|B...(mk, 'html5lib')| pip install html5lib|"
   ]
  },
  {
   "cell_type": "code",
   "execution_count": 10,
   "metadata": {},
   "outputs": [
    {
     "name": "stdout",
     "output_type": "stream",
     "text": [
      "title: <title>This is a python demo page</title>\n",
      "tag_a : <a class=\"py1\" href=\"http://www.icourse163.org/course/BIT-268001\" id=\"link1\">Basic Python</a>\n",
      "tag_attrs : {'href': 'http://www.icourse163.org/course/BIT-268001', 'class': ['py1'], 'id': 'link1'}\n"
     ]
    }
   ],
   "source": [
    "print(\"title: \" + str(soup.title))\n",
    "tag_a = soup.a\n",
    "print('tag_a : ' + str(tag_a)) # 只能获取第一个标签\n",
    "print('tag_attrs : ' + str(tag_a.attrs))"
   ]
  }
 ],
 "metadata": {
  "kernelspec": {
   "display_name": "Python 3",
   "language": "python",
   "name": "python3"
  },
  "language_info": {
   "codemirror_mode": {
    "name": "ipython",
    "version": 3
   },
   "file_extension": ".py",
   "mimetype": "text/x-python",
   "name": "python",
   "nbconvert_exporter": "python",
   "pygments_lexer": "ipython3",
   "version": "3.6.1"
  }
 },
 "nbformat": 4,
 "nbformat_minor": 2
}
