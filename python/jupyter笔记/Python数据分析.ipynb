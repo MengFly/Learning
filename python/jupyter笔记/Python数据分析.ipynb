{
 "cells": [
  {
   "cell_type": "markdown",
   "metadata": {},
   "source": [
    "# numpy"
   ]
  },
  {
   "cell_type": "code",
   "execution_count": 1,
   "metadata": {},
   "outputs": [
    {
     "name": "stdout",
     "output_type": "stream",
     "text": [
      "<class 'list'>\n"
     ]
    }
   ],
   "source": [
    "import numpy as np\n",
    "lst = [[1,3,5],[2,4,6]]\n",
    "print(type(lst))"
   ]
  },
  {
   "cell_type": "markdown",
   "metadata": {},
   "source": [
    "创建numpy中的array"
   ]
  },
  {
   "cell_type": "code",
   "execution_count": 3,
   "metadata": {},
   "outputs": [
    {
     "name": "stdout",
     "output_type": "stream",
     "text": [
      "<class 'numpy.ndarray'>\n"
     ]
    }
   ],
   "source": [
    "np_list = np.array(lst)\n",
    "print(type(np_list))"
   ]
  },
  {
   "cell_type": "markdown",
   "metadata": {},
   "source": [
    "创建特定类型的array\n",
    "+ int\n",
    "+ float\n",
    "+ int8\n",
    "+ int16\n",
    "+ int32\n",
    "+ int64\n",
    "+ int128\n",
    "+ uint8\n",
    "...\n",
    "+ float\n",
    "+ float16\n",
    "...\n",
    "+ str"
   ]
  },
  {
   "cell_type": "code",
   "execution_count": 5,
   "metadata": {},
   "outputs": [
    {
     "name": "stdout",
     "output_type": "stream",
     "text": [
      "[[ 1.  3.  5.]\n",
      " [ 2.  4.  6.]]\n"
     ]
    }
   ],
   "source": [
    "np_lst = np.array(lst, dtype=np.float)\n",
    "print(np_lst)"
   ]
  },
  {
   "cell_type": "code",
   "execution_count": 10,
   "metadata": {},
   "outputs": [
    {
     "name": "stdout",
     "output_type": "stream",
     "text": [
      "6\n"
     ]
    }
   ],
   "source": [
    "print(np.size(np_lst))"
   ]
  },
  {
   "cell_type": "markdown",
   "metadata": {},
   "source": [
    "一些常用的数组"
   ]
  },
  {
   "cell_type": "code",
   "execution_count": 17,
   "metadata": {
    "collapsed": true
   },
   "outputs": [
    {
     "name": "stdout",
     "output_type": "stream",
     "text": [
      "zeros([2, 4]):\n",
      "[[ 0.  0.  0.  0.]\n",
      " [ 0.  0.  0.  0.]]\n",
      "ones([3, 5]):\n",
      "[[ 1.  1.  1.  1.  1.]\n",
      " [ 1.  1.  1.  1.  1.]\n",
      " [ 1.  1.  1.  1.  1.]]\n",
      "np.random.rand(2, 4):\n",
      "[[ 0.76690586  0.2286677   0.5681215   0.24779852]\n",
      " [ 0.37705609  0.42749176  0.17434173  0.32968999]]\n",
      "np.random.rand():\n",
      "0.5385542803445688\n",
      "np.random.randint(1, 10):\n",
      "[[2 3 5 9 3]\n",
      " [2 4 2 5 7]]\n",
      "np.random.randn(2, 4):\n",
      "[[-1.12495895  1.42832763  1.59524508  0.50788032]\n",
      " [-0.21779095 -0.09808772 -1.21915244  0.29229889]]\n",
      "np.random.choice([3,5,7,9,6,4,1]):\n",
      "7\n"
     ]
    }
   ],
   "source": [
    "# 零数组\n",
    "print(\"zeros([2, 4]):\")\n",
    "print(np.zeros([2,4]))\n",
    "# 一数组\n",
    "print(\"ones([3, 5]):\")\n",
    "print(np.ones([3, 5]))\n",
    "# 随机数数组\n",
    "print('np.random.rand(2, 4):')\n",
    "print(np.random.rand(2, 4))\n",
    "# 一个随机数\n",
    "print('np.random.rand():')\n",
    "print(np.random.rand())\n",
    "print('np.random.randint(1, 10):')\n",
    "print(np.random.randint(1, 10, [2, 5]))\n",
    "#标准正态分布的随机数\n",
    "print('np.random.randn(2, 4):')\n",
    "print(np.random.randn(2, 4))\n",
    "# 从给定数组中获取随机数(必须是一维数组)\n",
    "print('np.random.choice([3,5,7,9,6,4,1]):')\n",
    "print(np.random.choice([3,5,7,9,6,4,1]))\n"
   ]
  },
  {
   "cell_type": "markdown",
   "metadata": {},
   "source": [
    "numpy的一些操作"
   ]
  },
  {
   "cell_type": "code",
   "execution_count": 20,
   "metadata": {},
   "outputs": [
    {
     "name": "stdout",
     "output_type": "stream",
     "text": [
      "np.arange(1, 11):\n",
      "[ 1  2  3  4  5  6  7  8  9 10]\n",
      "np.arange(1, 11).reshape(2, 5):\n",
      "[[ 1  2  3  4  5]\n",
      " [ 6  7  8  9 10]]\n",
      "np.dot(arr1, arr2.reshape(4,1))\n",
      "[70]\n",
      "np.concatenate((arr1, arr2))\n",
      "[1 2 3 4 5 6 7 8]\n",
      "np.hstack((arr1, arr2))\n",
      "[[1 2 3 4]\n",
      " [5 6 7 8]]\n",
      "np.hstack((arr1, arr2))\n",
      "[1 2 3 4 5 6 7 8]\n"
     ]
    }
   ],
   "source": [
    "print('np.arange(1, 11):')\n",
    "print(np.arange(1, 11))\n",
    "# 转换为两行五列的列表\n",
    "print('np.arange(1, 11).reshape(2, 5):')\n",
    "print(np.arange(1, 11).reshape(2, 5))\n",
    "\n",
    "# 数组点乘\n",
    "arr1 = np.array([1, 2, 3, 4])\n",
    "arr2 = np.array([5, 6, 7, 8])\n",
    "print('np.dot(arr1, arr2.reshape(4,1))')\n",
    "print(np.dot(arr1, arr2.reshape(4, 1)))\n",
    "\n",
    "# 追加\n",
    "print('np.concatenate((arr1, arr2))')\n",
    "print(np.concatenate((arr1, arr2)))\n",
    "print('np.hstack((arr1, arr2))')\n",
    "print(np.vstack((arr1, arr2)))\n",
    "print('np.hstack((arr1, arr2))')\n",
    "print(np.hstack((arr1, arr2)))"
   ]
  }
 ],
 "metadata": {
  "kernelspec": {
   "display_name": "Python 3",
   "language": "python",
   "name": "python3"
  },
  "language_info": {
   "codemirror_mode": {
    "name": "ipython",
    "version": 3
   },
   "file_extension": ".py",
   "mimetype": "text/x-python",
   "name": "python",
   "nbconvert_exporter": "python",
   "pygments_lexer": "ipython3",
   "version": "3.6.1"
  }
 },
 "nbformat": 4,
 "nbformat_minor": 2
}
