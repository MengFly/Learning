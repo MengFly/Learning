{
 "cells": [
  {
   "cell_type": "markdown",
   "metadata": {},
   "source": [
    "# 装饰器decorator\n",
    "> 装饰器可以极大地简化代码，避免每个函数编写重复性代码\n",
    "\n",
    "Python的decorator本质上就是一个高阶函数，他接受一个函数作为参数，然后返回一个新函数,使用decorator用Python提供的@ 语法，就可以避免写f = decorator(f)这样的语句"
   ]
  },
  {
   "cell_type": "code",
   "execution_count": 7,
   "metadata": {},
   "outputs": [
    {
     "name": "stdout",
     "output_type": "stream",
     "text": [
      "call length()...\n",
      "15\n",
      "<function log.<locals>.fn at 0x000002596FF95C80>\n"
     ]
    }
   ],
   "source": [
    "def log(f):\n",
    "    def fn(x) :\n",
    "        print('call ' + f.__name__ + '()...')\n",
    "        return f(x)\n",
    "    return fn\n",
    "\n",
    "@log\n",
    "def length(a):\n",
    "    return len(a)\n",
    "# 上面的@log 就相当于 f = log(f)\n",
    "print(length(\"wo shi test str\"))\n",
    "# call length()...\n",
    "# 15\n",
    "print(length)\n",
    "#<function log.<locals>.fn at 0x000002596FF95C80>\n"
   ]
  },
  {
   "cell_type": "markdown",
   "metadata": {},
   "source": [
    "+ 解释\n",
    "\n",
    "从上面可以看出：\n",
    " \n",
    "1. 上面的参数x虽然没有显示的从log函数中传递，python的装饰器其实就是从新返回了一个和我们要装饰的函数有相同参数的新的函数，同时添加了新的功能，又在新函数的内部调用了要装饰的函数，这样就给要装饰的函数添加了新的功能。\n",
    " \n",
    " 2.在调用的时候只需要在函数上面添加**@装饰器名**就可以了。这个就相当于f = log(f)\n",
    " \n",
    " 3.从第二点可以得出一个结论，那就是在使用装饰器后我们的函数已经不是我们之前的函数了。从最后一行的代码我们可以看得出来，它的函数已经变成了log里面的函数fn"
   ]
  },
  {
   "cell_type": "markdown",
   "metadata": {},
   "source": [
    "## 让装饰器适应任何函数\n",
    "可以使用Python的\\*args和\\**kw，保证任意个参数总是能正常调用\n",
    "理解了上面的第一个例子之后。下面例子就很好理解了，所以就不解释了"
   ]
  },
  {
   "cell_type": "code",
   "execution_count": null,
   "metadata": {},
   "outputs": [],
   "source": [
    "def log(f) :\n",
    "    def fn(*args, **kw):\n",
    "        print('call ' + f.__name__ + \"()...\")\n",
    "        return f(*args, **kw)\n",
    "    return fn"
   ]
  }
 ],
 "metadata": {
  "kernelspec": {
   "display_name": "Python 3",
   "language": "python",
   "name": "python3"
  },
  "language_info": {
   "codemirror_mode": {
    "name": "ipython",
    "version": 3
   },
   "file_extension": ".py",
   "mimetype": "text/x-python",
   "name": "python",
   "nbconvert_exporter": "python",
   "pygments_lexer": "ipython3",
   "version": "3.6.1"
  }
 },
 "nbformat": 4,
 "nbformat_minor": 2
}
