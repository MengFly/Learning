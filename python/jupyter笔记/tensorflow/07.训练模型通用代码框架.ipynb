{
 "cells": [
  {
   "cell_type": "code",
   "execution_count": 4,
   "metadata": {},
   "outputs": [],
   "source": [
    "import tensorflow as tf\n",
    "\n",
    "# Saver对象，用于在训练的过程中保存训练的结果\n",
    "saver = tf.train.Saver()\n",
    "# 设置保存的文件夹的位置\n",
    "save_dir = \"D:/python/tensorflow/save/01\"\n",
    "\n",
    "# 初始化变量和模型参数\n",
    "\n",
    "\n",
    "# 计算模型在数据X上面的输出，并将结果返回\n",
    "def inference(X):\n",
    "    pass\n",
    "\n",
    "# 依据训练集X及其期望Y计算出损失\n",
    "def loss(X, Y):\n",
    "    pass\n",
    "\n",
    "# 读取训练集以及其期望输出Y\n",
    "def inputs():\n",
    "    pass\n",
    "\n",
    "# 根据计算的总损失训练或调整模型参数\n",
    "def train(total_loss):\n",
    "    pass\n",
    "\n",
    "# 对训练得到的模型进行评估\n",
    "def evaluate(sess, X, Y):\n",
    "    pass"
   ]
  },
  {
   "cell_type": "code",
   "execution_count": null,
   "metadata": {
    "collapsed": true
   },
   "outputs": [],
   "source": [
    "# 在一个回话中启动数据流图，搭建流程\n",
    "with tf.Session() as sess:\n",
    "    tf.global_variables_initializer().run()\n",
    "    X, Y = inputs()\n",
    "    total_loos = loss(X, Y)\n",
    "    train_op = train(total_loss)\n",
    "    coord = tf.train.Coordinator()\n",
    "    threads = tf.train.start_queue_runners(sess = sess, coord = coord)\n",
    "    \n",
    "    initial_step = 0\n",
    "    # 验证之前是否已经保存了检查点文件\n",
    "    ckpt = tf.train.get_checkpoint_state(os.path.dirname(save_dir))\n",
    "    if ckpt and ckpt.model_checkpoint_path:\n",
    "        # 从检查点恢复模型参数\n",
    "        saver.restore(sess, ckpt.model_checkpoint_path)\n",
    "        initial_step = int(ckpt.model_checkpoint_path.rsplit(\"-\", 1)[1])\n",
    "    # 实际的训练迭代次数\n",
    "    training_steps = 1000\n",
    "    for step in range(initial_step, training_steps):\n",
    "        sess.run([train_op])\n",
    "        # 查看损失在训练过程中递减的情况\n",
    "        if step % 10 == 0 :\n",
    "            print(\"loss:\", sess.run[total_loss])\n",
    "            # 保存训练的结果\n",
    "            saver.save(sess, save_dir, global_step = step)\n",
    "    evaluate(sess, X, Y)\n",
    "    saver.save(sess, save_dir, global_step = training_steps)\n",
    "    coord.request_stop()\n",
    "    coord.join(threads)\n",
    "    sess.close()"
   ]
  }
 ],
 "metadata": {
  "kernelspec": {
   "display_name": "Python 3",
   "language": "python",
   "name": "python3"
  },
  "language_info": {
   "codemirror_mode": {
    "name": "ipython",
    "version": 3
   },
   "file_extension": ".py",
   "mimetype": "text/x-python",
   "name": "python",
   "nbconvert_exporter": "python",
   "pygments_lexer": "ipython3",
   "version": "3.6.1"
  }
 },
 "nbformat": 4,
 "nbformat_minor": 2
}
