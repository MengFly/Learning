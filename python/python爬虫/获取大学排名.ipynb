{
 "cells": [
  {
   "cell_type": "markdown",
   "metadata": {},
   "source": [
    "### 获取网页信息"
   ]
  },
  {
   "cell_type": "code",
   "execution_count": 13,
   "metadata": {},
   "outputs": [],
   "source": [
    "import requests\n",
    "import bs4\n",
    "\n",
    "def getHTMLText(url):\n",
    "    try :\n",
    "        r = requests.get(url, timeout = 10)\n",
    "        r.raise_for_status()\n",
    "        r.encoding = r.apparent_encoding\n",
    "        return r.text\n",
    "    except:\n",
    "        return \"\""
   ]
  },
  {
   "cell_type": "markdown",
   "metadata": {},
   "source": [
    "### 获取大学排名信息"
   ]
  },
  {
   "cell_type": "code",
   "execution_count": 34,
   "metadata": {},
   "outputs": [],
   "source": [
    "def fillUnivList(ulist, html):\n",
    "    soup = bs4.BeautifulSoup(html, \"html.parser\")\n",
    "    # 获取具体信息\n",
    "    for univ_raw in soup.find('tbody').find_all('tr'):\n",
    "        univ_info = []\n",
    "        # 大学名称\n",
    "        univ_data = univ_raw.find_all(\"td\")\n",
    "        for item in univ_data:\n",
    "            univ_info.append(item.string)\n",
    "        ulist.append(univ_info)"
   ]
  },
  {
   "cell_type": "markdown",
   "metadata": {},
   "source": [
    "### 打印大学排名信息"
   ]
  },
  {
   "cell_type": "code",
   "execution_count": 30,
   "metadata": {},
   "outputs": [],
   "source": [
    "def printUnivList(uList, num):\n",
    "    print(uList[0:num])"
   ]
  },
  {
   "cell_type": "markdown",
   "metadata": {},
   "source": [
    "### 主函数"
   ]
  },
  {
   "cell_type": "code",
   "execution_count": 35,
   "metadata": {},
   "outputs": [
    {
     "name": "stdout",
     "output_type": "stream",
     "text": [
      "[['1', '清华大学', '北京', '111'], ['2', '北京大学', '北京', '90'], ['3', '浙江大学', '浙江', '88'], ['4', '上海交通大学', '上海', '79'], ['5', '复旦大学', '上海', '57'], ['6', '中山大学', '广东', '46'], ['7', '中国科学技术大学', '安徽', '40'], ['8', '南京大学', '江苏', '34'], ['8', '华中科技大学', '湖北', '34'], ['10', '同济大学', '上海', '31'], ['11', '大连理工大学', '辽宁', '29'], ['12', '哈尔滨工业大学', '黑龙江', '23'], ['13', '东南大学', '江苏', '22'], ['14', '华南理工大学', '广东', '21'], ['15', '北京协和医学院', '北京', '20'], ['16', '武汉大学', '湖北', '19'], ['16', '四川大学', '四川', '19'], ['16', '山东大学', '山东', '19'], ['19', '南开大学', '天津', '18'], ['19', '吉林大学', '吉林', '18']]\n"
     ]
    }
   ],
   "source": [
    "def main():\n",
    "    uinfo = []\n",
    "    url = \"http://www.zuihaodaxue.cn/dingjianrencaipaiming2017.html\"\n",
    "    html = getHTMLText(url)\n",
    "    fillUnivList(uinfo, html)\n",
    "    printUnivList(uinfo, 20)\n",
    "    \n",
    "if __name__ == \"__main__\":\n",
    "    main()"
   ]
  }
 ],
 "metadata": {
  "kernelspec": {
   "display_name": "Python 3",
   "language": "python",
   "name": "python3"
  },
  "language_info": {
   "codemirror_mode": {
    "name": "ipython",
    "version": 3
   },
   "file_extension": ".py",
   "mimetype": "text/x-python",
   "name": "python",
   "nbconvert_exporter": "python",
   "pygments_lexer": "ipython3",
   "version": "3.6.1"
  }
 },
 "nbformat": 4,
 "nbformat_minor": 2
}
