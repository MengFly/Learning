{
 "cells": [
  {
   "cell_type": "markdown",
   "metadata": {},
   "source": [
    "## 没有添加header的情况"
   ]
  },
  {
   "cell_type": "code",
   "execution_count": 15,
   "metadata": {},
   "outputs": [
    {
     "name": "stdout",
     "output_type": "stream",
     "text": [
      "b\"\\x1f\\x8b\\x08\\x00\\x00\\x00\\x00\\x00\\x00\\x03\\xe4\\xbd\\xfb{S\\xc7\\xb57\\xfe3\\xf9+6;\\xe7\\x18\\xa9\\xc8\\xbaZ\\xf2\\r\\x99\\x87\\x00ih\\x13H\\x03I\\xdfS\\xc2\\xa3gK\\xda\\xb26\\xe8\\x86\\xb4\\x85m\\x8c\\xff\\x18\\x87\\xb4\\xa5$i\\xb99`\\xb0\\xb9\\x9a\\x9b\\x01c0\\x18\\xde4}\\x93&i\\xf3\\xa6M/99\\xa7IH\\x9a\\xe7\\xfbY3{\\xf6E\\xda\\x92e\\xd9\\xc9\\xe9\\xf3}\\xd3s\\xf0\\xd6\\xde3k\\xd6\\xacY\\xb3\\xd6\\x9a\\x99\\xb5\\xd6lX\\xbbe\\xc7\\xe6]\\xff\\xf1\\xe2V\\xe9\\xb9]/<?\\xf0\\xd4\\x86\\xb5\\x9d\\x9d\\xbb\\xb5\\x8c\\xb4m\\xab\\x14\\x93\\xf6\\x0cH\\x1b\\xb2z>'i\\xe9\\xb8\\\\P\\x13Ce\\xa5$K\\xa9\\x9cR\\xa9\\xb0\\xdfU%\\xa1\\xa91\\t_\\xd8SNW{dTY\\xbb[-\\xa4\\xb5\\xcc\\x9e\\xceN\\x07\\xbc\\xee\\xd6\\xe0u\\xb7\\n\"\n"
     ]
    }
   ],
   "source": [
    "import urllib.request\n",
    "import http.cookiejar\n",
    "\n",
    "url = 'http://news.163.com/17/0915/17/CUD39IS3000189FH.html'\n",
    "cjar = http.cookiejar.CookieJar()\n",
    "urllib.request.HTTPCookieProcessor(cjar)\n",
    "data = urllib.request.urlopen(url).readline()\n",
    "print(data)"
   ]
  },
  {
   "cell_type": "markdown",
   "metadata": {},
   "source": [
    "## 添加header "
   ]
  },
  {
   "cell_type": "code",
   "execution_count": 14,
   "metadata": {},
   "outputs": [
    {
     "name": "stdout",
     "output_type": "stream",
     "text": [
      "b\"\\x1f\\x8b\\x08\\x00\\x00\\x00\\x00\\x00\\x00\\x03\\xe4\\xbd\\xfb{S\\xc7\\xb57\\xfe3\\xf9+6;\\xe7\\x18\\xa9\\xc8\\xbaZ\\xf2\\r\\x99\\x87\\x00ih\\x13H\\x03I\\xdfS\\xc2\\xa3gK\\xda\\xb26\\xe8\\x86\\xb4\\x85m\\x8c\\xff\\x18\\x87\\xb4\\xa5$i\\xb99`\\xb0\\xb9\\x9a\\x9b\\x01c0\\x18\\xde4}\\x93&i\\xf3\\xa6M/99\\xa7IH\\x9a\\xe7\\xfbY3{\\xf6E\\xda\\x92e\\xd9\\xc9\\xe9\\xf3}\\xd3s\\xf0\\xd6\\xde3k\\xd6\\xacY\\xb3\\xd6\\x9a\\x99\\xb5\\xd6lX\\xbbe\\xc7\\xe6]\\xff\\xf1\\xe2V\\xe9\\xb9]/<?\\xf0\\xd4\\x86\\xb5\\x9d\\x9d\\xbb\\xb5\\x8c\\xb4m\\xab\\x14\\x93\\xf6\\x0cH\\x1b\\xb2z>'i\\xe9\\xb8\\\\P\\x13Ce\\xa5$K\\xa9\\x9cR\\xa9\\xb0\\xdfU%\\xa1\\xa91\\t_\\xd8SNW{dTY\\xbb[-\\xa4\\xb5\\xcc\\x9e\\xceN\\x07\\xbc\\xee\\xd6\\xe0u\\xb7\\n\"\n"
     ]
    }
   ],
   "source": [
    "headers = {'User-Agent': 'Mozilla/5.0 (Windows NT 10.0; Win64; x64; rv:55.0) Gecko/20100101 Firefox/55.0',\n",
    "        'Accept': 'text/html,application/xhtml+xml,application/xml;q=0.9,*/*;q=0.8',\n",
    "        'Accept-Language': 'zh-CN,zh;q=0.8,en-US;q=0.5,en;q=0.3',\n",
    "        'Accept-Encoding': 'gzip, deflate',\n",
    "        'Connection': 'keep-alive'}\n",
    "opener = urllib.request.build_opener(urllib.request.HTTPCookieProcessor(cjar))\n",
    "headall = []\n",
    "for key,value in headers.items():\n",
    "    item = (key, value)\n",
    "    headall.append(item)\n",
    "opener.addheaders = headall\n",
    "urllib.request.install_opener(opener)\n",
    "data = urllib.request.urlopen(url).readline()\n",
    "print(data)"
   ]
  }
 ],
 "metadata": {
  "kernelspec": {
   "display_name": "Python 3",
   "language": "python",
   "name": "python3"
  },
  "language_info": {
   "codemirror_mode": {
    "name": "ipython",
    "version": 3
   },
   "file_extension": ".py",
   "mimetype": "text/x-python",
   "name": "python",
   "nbconvert_exporter": "python",
   "pygments_lexer": "ipython3",
   "version": "3.6.1"
  }
 },
 "nbformat": 4,
 "nbformat_minor": 2
}
